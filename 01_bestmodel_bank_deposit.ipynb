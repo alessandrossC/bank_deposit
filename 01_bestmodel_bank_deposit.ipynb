{
  "nbformat": 4,
  "nbformat_minor": 0,
  "metadata": {
    "colab": {
      "provenance": [],
      "authorship_tag": "ABX9TyPT6zNFBUlSu5NOuX7svlqA",
      "include_colab_link": true
    },
    "kernelspec": {
      "name": "python3",
      "display_name": "Python 3"
    },
    "language_info": {
      "name": "python"
    }
  },
  "cells": [
    {
      "cell_type": "markdown",
      "metadata": {
        "id": "view-in-github",
        "colab_type": "text"
      },
      "source": [
        "<a href=\"https://colab.research.google.com/github/alessandrossC/bank_deposit/blob/main/01_bestmodel_bank_deposit.ipynb\" target=\"_parent\"><img src=\"https://colab.research.google.com/assets/colab-badge.svg\" alt=\"Open In Colab\"/></a>"
      ]
    },
    {
      "cell_type": "markdown",
      "source": [
        "Predicting Client Subscription to Term Deposit"
      ],
      "metadata": {
        "id": "C1rZSqjhPP_1"
      }
    },
    {
      "cell_type": "markdown",
      "source": [
        "The goal is to predict whether a client will subscribe to a term deposit (y: yes/no), which is a binary classification problem.\n",
        "\n",
        "Several machine learning methods are suitable for this task:\n",
        "\n",
        "Logistic Regression is a simple and interpretable baseline model. It works well when the relationship between features and the target variable is approximately linear.\n",
        "\n",
        "Random Forest and XGBoost are powerful ensemble methods that perform well in capturing complex, nonlinear relationships and feature interactions."
      ],
      "metadata": {
        "id": "d8FH6fz_PVOM"
      }
    },
    {
      "cell_type": "code",
      "execution_count": 120,
      "metadata": {
        "colab": {
          "base_uri": "https://localhost:8080/"
        },
        "id": "sqd6WGt7OwSZ",
        "outputId": "541a1c48-ca3a-4334-afa3-1f5b2ce86093"
      },
      "outputs": [
        {
          "output_type": "stream",
          "name": "stdout",
          "text": [
            "The autoreload extension is already loaded. To reload it, use:\n",
            "  %reload_ext autoreload\n"
          ]
        }
      ],
      "source": [
        "import numpy as np\n",
        "import pandas as pd\n",
        "import matplotlib.pyplot as plt\n",
        "import seaborn as sns\n",
        "import joblib\n",
        "import shap\n",
        "\n",
        "from sklearn.compose import ColumnTransformer\n",
        "from sklearn.linear_model import LogisticRegression\n",
        "from sklearn.model_selection import cross_val_score, RandomizedSearchCV\n",
        "from sklearn.pipeline import Pipeline\n",
        "from sklearn.preprocessing import MinMaxScaler\n",
        "from sklearn.preprocessing import OneHotEncoder, OrdinalEncoder, StandardScaler\n",
        "from sklearn.neighbors import KNeighborsClassifier\n",
        "from sklearn.tree import DecisionTreeClassifier\n",
        "from sklearn.ensemble import RandomForestClassifier\n",
        "from sklearn.metrics import confusion_matrix, roc_auc_score\n",
        "\n",
        "from xgboost import XGBClassifier\n",
        "from lightgbm import LGBMClassifier, plot_importance\n",
        "from hyperopt import fmin, tpe, hp, STATUS_OK, Trials, space_eval\n",
        "\n",
        "import sys\n",
        "sys.path.append('/content')\n",
        "%load_ext autoreload\n",
        "%autoreload 2"
      ]
    },
    {
      "cell_type": "code",
      "source": [
        "!wget -O process_bank https://raw.githubusercontent.com/alessandrossC/bank_deposit/main/process_bank.py"
      ],
      "metadata": {
        "colab": {
          "base_uri": "https://localhost:8080/"
        },
        "id": "A_asvNSJQRUx",
        "outputId": "8fad9500-2daf-4011-8487-6f50630686e5"
      },
      "execution_count": 12,
      "outputs": [
        {
          "output_type": "stream",
          "name": "stdout",
          "text": [
            "--2025-06-13 07:50:39--  https://raw.githubusercontent.com/alessandrossC/bank_deposit/main/process_bank.py\n",
            "Resolving raw.githubusercontent.com (raw.githubusercontent.com)... 185.199.108.133, 185.199.109.133, 185.199.110.133, ...\n",
            "Connecting to raw.githubusercontent.com (raw.githubusercontent.com)|185.199.108.133|:443... connected.\n",
            "HTTP request sent, awaiting response... 200 OK\n",
            "Length: 9622 (9.4K) [text/plain]\n",
            "Saving to: ‘process_bank’\n",
            "\n",
            "\rprocess_bank          0%[                    ]       0  --.-KB/s               \rprocess_bank        100%[===================>]   9.40K  --.-KB/s    in 0.001s  \n",
            "\n",
            "2025-06-13 07:50:39 (15.8 MB/s) - ‘process_bank’ saved [9622/9622]\n",
            "\n"
          ]
        }
      ]
    },
    {
      "cell_type": "code",
      "source": [
        "import sys\n",
        "sys.path.append(\".\")\n",
        "from process_bank import (split_data, create_inputs_and_targets,\n",
        "                                  get_auc, get_eval_results, get_confusion_matrix)"
      ],
      "metadata": {
        "id": "bVcCXciiQo2f"
      },
      "execution_count": 33,
      "outputs": []
    },
    {
      "cell_type": "code",
      "source": [
        "raw_data = pd.read_csv('/content/bank_data.csv')\n",
        "raw_data.head()"
      ],
      "metadata": {
        "colab": {
          "base_uri": "https://localhost:8080/",
          "height": 256
        },
        "id": "gRP5zAp7RYNu",
        "outputId": "246b01b1-c461-4e81-cd5d-623e8f842025"
      },
      "execution_count": 17,
      "outputs": [
        {
          "output_type": "execute_result",
          "data": {
            "text/plain": [
              "   age        job  marital    education  default housing loan    contact  \\\n",
              "0   56  housemaid  married     basic.4y       no      no   no  telephone   \n",
              "1   57   services  married  high.school  unknown      no   no  telephone   \n",
              "2   37   services  married  high.school       no     yes   no  telephone   \n",
              "3   40     admin.  married     basic.6y       no      no   no  telephone   \n",
              "4   56   services  married  high.school       no      no  yes  telephone   \n",
              "\n",
              "  month day_of_week  ...     poutcome  emp.var.rate  cons.price.idx  \\\n",
              "0   may         mon  ...  nonexistent           1.1          93.994   \n",
              "1   may         mon  ...  nonexistent           1.1          93.994   \n",
              "2   may         mon  ...  nonexistent           1.1          93.994   \n",
              "3   may         mon  ...  nonexistent           1.1          93.994   \n",
              "4   may         mon  ...  nonexistent           1.1          93.994   \n",
              "\n",
              "   cons.conf.idx euribor3m  nr.employed   y  cons.price.idx_diff  \\\n",
              "0          -36.4     4.857       5191.0  no                  0.0   \n",
              "1          -36.4     4.857       5191.0  no                  0.0   \n",
              "2          -36.4     4.857       5191.0  no                  0.0   \n",
              "3          -36.4     4.857       5191.0  no                  0.0   \n",
              "4          -36.4     4.857       5191.0  no                  0.0   \n",
              "\n",
              "   default_grouped  y_numeric  \n",
              "0               no          0  \n",
              "1           not_no          0  \n",
              "2               no          0  \n",
              "3               no          0  \n",
              "4               no          0  \n",
              "\n",
              "[5 rows x 24 columns]"
            ],
            "text/html": [
              "\n",
              "  <div id=\"df-cabd73a2-7a96-41a9-850e-1d1fbd4daa07\" class=\"colab-df-container\">\n",
              "    <div>\n",
              "<style scoped>\n",
              "    .dataframe tbody tr th:only-of-type {\n",
              "        vertical-align: middle;\n",
              "    }\n",
              "\n",
              "    .dataframe tbody tr th {\n",
              "        vertical-align: top;\n",
              "    }\n",
              "\n",
              "    .dataframe thead th {\n",
              "        text-align: right;\n",
              "    }\n",
              "</style>\n",
              "<table border=\"1\" class=\"dataframe\">\n",
              "  <thead>\n",
              "    <tr style=\"text-align: right;\">\n",
              "      <th></th>\n",
              "      <th>age</th>\n",
              "      <th>job</th>\n",
              "      <th>marital</th>\n",
              "      <th>education</th>\n",
              "      <th>default</th>\n",
              "      <th>housing</th>\n",
              "      <th>loan</th>\n",
              "      <th>contact</th>\n",
              "      <th>month</th>\n",
              "      <th>day_of_week</th>\n",
              "      <th>...</th>\n",
              "      <th>poutcome</th>\n",
              "      <th>emp.var.rate</th>\n",
              "      <th>cons.price.idx</th>\n",
              "      <th>cons.conf.idx</th>\n",
              "      <th>euribor3m</th>\n",
              "      <th>nr.employed</th>\n",
              "      <th>y</th>\n",
              "      <th>cons.price.idx_diff</th>\n",
              "      <th>default_grouped</th>\n",
              "      <th>y_numeric</th>\n",
              "    </tr>\n",
              "  </thead>\n",
              "  <tbody>\n",
              "    <tr>\n",
              "      <th>0</th>\n",
              "      <td>56</td>\n",
              "      <td>housemaid</td>\n",
              "      <td>married</td>\n",
              "      <td>basic.4y</td>\n",
              "      <td>no</td>\n",
              "      <td>no</td>\n",
              "      <td>no</td>\n",
              "      <td>telephone</td>\n",
              "      <td>may</td>\n",
              "      <td>mon</td>\n",
              "      <td>...</td>\n",
              "      <td>nonexistent</td>\n",
              "      <td>1.1</td>\n",
              "      <td>93.994</td>\n",
              "      <td>-36.4</td>\n",
              "      <td>4.857</td>\n",
              "      <td>5191.0</td>\n",
              "      <td>no</td>\n",
              "      <td>0.0</td>\n",
              "      <td>no</td>\n",
              "      <td>0</td>\n",
              "    </tr>\n",
              "    <tr>\n",
              "      <th>1</th>\n",
              "      <td>57</td>\n",
              "      <td>services</td>\n",
              "      <td>married</td>\n",
              "      <td>high.school</td>\n",
              "      <td>unknown</td>\n",
              "      <td>no</td>\n",
              "      <td>no</td>\n",
              "      <td>telephone</td>\n",
              "      <td>may</td>\n",
              "      <td>mon</td>\n",
              "      <td>...</td>\n",
              "      <td>nonexistent</td>\n",
              "      <td>1.1</td>\n",
              "      <td>93.994</td>\n",
              "      <td>-36.4</td>\n",
              "      <td>4.857</td>\n",
              "      <td>5191.0</td>\n",
              "      <td>no</td>\n",
              "      <td>0.0</td>\n",
              "      <td>not_no</td>\n",
              "      <td>0</td>\n",
              "    </tr>\n",
              "    <tr>\n",
              "      <th>2</th>\n",
              "      <td>37</td>\n",
              "      <td>services</td>\n",
              "      <td>married</td>\n",
              "      <td>high.school</td>\n",
              "      <td>no</td>\n",
              "      <td>yes</td>\n",
              "      <td>no</td>\n",
              "      <td>telephone</td>\n",
              "      <td>may</td>\n",
              "      <td>mon</td>\n",
              "      <td>...</td>\n",
              "      <td>nonexistent</td>\n",
              "      <td>1.1</td>\n",
              "      <td>93.994</td>\n",
              "      <td>-36.4</td>\n",
              "      <td>4.857</td>\n",
              "      <td>5191.0</td>\n",
              "      <td>no</td>\n",
              "      <td>0.0</td>\n",
              "      <td>no</td>\n",
              "      <td>0</td>\n",
              "    </tr>\n",
              "    <tr>\n",
              "      <th>3</th>\n",
              "      <td>40</td>\n",
              "      <td>admin.</td>\n",
              "      <td>married</td>\n",
              "      <td>basic.6y</td>\n",
              "      <td>no</td>\n",
              "      <td>no</td>\n",
              "      <td>no</td>\n",
              "      <td>telephone</td>\n",
              "      <td>may</td>\n",
              "      <td>mon</td>\n",
              "      <td>...</td>\n",
              "      <td>nonexistent</td>\n",
              "      <td>1.1</td>\n",
              "      <td>93.994</td>\n",
              "      <td>-36.4</td>\n",
              "      <td>4.857</td>\n",
              "      <td>5191.0</td>\n",
              "      <td>no</td>\n",
              "      <td>0.0</td>\n",
              "      <td>no</td>\n",
              "      <td>0</td>\n",
              "    </tr>\n",
              "    <tr>\n",
              "      <th>4</th>\n",
              "      <td>56</td>\n",
              "      <td>services</td>\n",
              "      <td>married</td>\n",
              "      <td>high.school</td>\n",
              "      <td>no</td>\n",
              "      <td>no</td>\n",
              "      <td>yes</td>\n",
              "      <td>telephone</td>\n",
              "      <td>may</td>\n",
              "      <td>mon</td>\n",
              "      <td>...</td>\n",
              "      <td>nonexistent</td>\n",
              "      <td>1.1</td>\n",
              "      <td>93.994</td>\n",
              "      <td>-36.4</td>\n",
              "      <td>4.857</td>\n",
              "      <td>5191.0</td>\n",
              "      <td>no</td>\n",
              "      <td>0.0</td>\n",
              "      <td>no</td>\n",
              "      <td>0</td>\n",
              "    </tr>\n",
              "  </tbody>\n",
              "</table>\n",
              "<p>5 rows × 24 columns</p>\n",
              "</div>\n",
              "    <div class=\"colab-df-buttons\">\n",
              "\n",
              "  <div class=\"colab-df-container\">\n",
              "    <button class=\"colab-df-convert\" onclick=\"convertToInteractive('df-cabd73a2-7a96-41a9-850e-1d1fbd4daa07')\"\n",
              "            title=\"Convert this dataframe to an interactive table.\"\n",
              "            style=\"display:none;\">\n",
              "\n",
              "  <svg xmlns=\"http://www.w3.org/2000/svg\" height=\"24px\" viewBox=\"0 -960 960 960\">\n",
              "    <path d=\"M120-120v-720h720v720H120Zm60-500h600v-160H180v160Zm220 220h160v-160H400v160Zm0 220h160v-160H400v160ZM180-400h160v-160H180v160Zm440 0h160v-160H620v160ZM180-180h160v-160H180v160Zm440 0h160v-160H620v160Z\"/>\n",
              "  </svg>\n",
              "    </button>\n",
              "\n",
              "  <style>\n",
              "    .colab-df-container {\n",
              "      display:flex;\n",
              "      gap: 12px;\n",
              "    }\n",
              "\n",
              "    .colab-df-convert {\n",
              "      background-color: #E8F0FE;\n",
              "      border: none;\n",
              "      border-radius: 50%;\n",
              "      cursor: pointer;\n",
              "      display: none;\n",
              "      fill: #1967D2;\n",
              "      height: 32px;\n",
              "      padding: 0 0 0 0;\n",
              "      width: 32px;\n",
              "    }\n",
              "\n",
              "    .colab-df-convert:hover {\n",
              "      background-color: #E2EBFA;\n",
              "      box-shadow: 0px 1px 2px rgba(60, 64, 67, 0.3), 0px 1px 3px 1px rgba(60, 64, 67, 0.15);\n",
              "      fill: #174EA6;\n",
              "    }\n",
              "\n",
              "    .colab-df-buttons div {\n",
              "      margin-bottom: 4px;\n",
              "    }\n",
              "\n",
              "    [theme=dark] .colab-df-convert {\n",
              "      background-color: #3B4455;\n",
              "      fill: #D2E3FC;\n",
              "    }\n",
              "\n",
              "    [theme=dark] .colab-df-convert:hover {\n",
              "      background-color: #434B5C;\n",
              "      box-shadow: 0px 1px 3px 1px rgba(0, 0, 0, 0.15);\n",
              "      filter: drop-shadow(0px 1px 2px rgba(0, 0, 0, 0.3));\n",
              "      fill: #FFFFFF;\n",
              "    }\n",
              "  </style>\n",
              "\n",
              "    <script>\n",
              "      const buttonEl =\n",
              "        document.querySelector('#df-cabd73a2-7a96-41a9-850e-1d1fbd4daa07 button.colab-df-convert');\n",
              "      buttonEl.style.display =\n",
              "        google.colab.kernel.accessAllowed ? 'block' : 'none';\n",
              "\n",
              "      async function convertToInteractive(key) {\n",
              "        const element = document.querySelector('#df-cabd73a2-7a96-41a9-850e-1d1fbd4daa07');\n",
              "        const dataTable =\n",
              "          await google.colab.kernel.invokeFunction('convertToInteractive',\n",
              "                                                    [key], {});\n",
              "        if (!dataTable) return;\n",
              "\n",
              "        const docLinkHtml = 'Like what you see? Visit the ' +\n",
              "          '<a target=\"_blank\" href=https://colab.research.google.com/notebooks/data_table.ipynb>data table notebook</a>'\n",
              "          + ' to learn more about interactive tables.';\n",
              "        element.innerHTML = '';\n",
              "        dataTable['output_type'] = 'display_data';\n",
              "        await google.colab.output.renderOutput(dataTable, element);\n",
              "        const docLink = document.createElement('div');\n",
              "        docLink.innerHTML = docLinkHtml;\n",
              "        element.appendChild(docLink);\n",
              "      }\n",
              "    </script>\n",
              "  </div>\n",
              "\n",
              "\n",
              "    <div id=\"df-f2280d23-8b73-4cd2-acb8-537d09c79620\">\n",
              "      <button class=\"colab-df-quickchart\" onclick=\"quickchart('df-f2280d23-8b73-4cd2-acb8-537d09c79620')\"\n",
              "                title=\"Suggest charts\"\n",
              "                style=\"display:none;\">\n",
              "\n",
              "<svg xmlns=\"http://www.w3.org/2000/svg\" height=\"24px\"viewBox=\"0 0 24 24\"\n",
              "     width=\"24px\">\n",
              "    <g>\n",
              "        <path d=\"M19 3H5c-1.1 0-2 .9-2 2v14c0 1.1.9 2 2 2h14c1.1 0 2-.9 2-2V5c0-1.1-.9-2-2-2zM9 17H7v-7h2v7zm4 0h-2V7h2v10zm4 0h-2v-4h2v4z\"/>\n",
              "    </g>\n",
              "</svg>\n",
              "      </button>\n",
              "\n",
              "<style>\n",
              "  .colab-df-quickchart {\n",
              "      --bg-color: #E8F0FE;\n",
              "      --fill-color: #1967D2;\n",
              "      --hover-bg-color: #E2EBFA;\n",
              "      --hover-fill-color: #174EA6;\n",
              "      --disabled-fill-color: #AAA;\n",
              "      --disabled-bg-color: #DDD;\n",
              "  }\n",
              "\n",
              "  [theme=dark] .colab-df-quickchart {\n",
              "      --bg-color: #3B4455;\n",
              "      --fill-color: #D2E3FC;\n",
              "      --hover-bg-color: #434B5C;\n",
              "      --hover-fill-color: #FFFFFF;\n",
              "      --disabled-bg-color: #3B4455;\n",
              "      --disabled-fill-color: #666;\n",
              "  }\n",
              "\n",
              "  .colab-df-quickchart {\n",
              "    background-color: var(--bg-color);\n",
              "    border: none;\n",
              "    border-radius: 50%;\n",
              "    cursor: pointer;\n",
              "    display: none;\n",
              "    fill: var(--fill-color);\n",
              "    height: 32px;\n",
              "    padding: 0;\n",
              "    width: 32px;\n",
              "  }\n",
              "\n",
              "  .colab-df-quickchart:hover {\n",
              "    background-color: var(--hover-bg-color);\n",
              "    box-shadow: 0 1px 2px rgba(60, 64, 67, 0.3), 0 1px 3px 1px rgba(60, 64, 67, 0.15);\n",
              "    fill: var(--button-hover-fill-color);\n",
              "  }\n",
              "\n",
              "  .colab-df-quickchart-complete:disabled,\n",
              "  .colab-df-quickchart-complete:disabled:hover {\n",
              "    background-color: var(--disabled-bg-color);\n",
              "    fill: var(--disabled-fill-color);\n",
              "    box-shadow: none;\n",
              "  }\n",
              "\n",
              "  .colab-df-spinner {\n",
              "    border: 2px solid var(--fill-color);\n",
              "    border-color: transparent;\n",
              "    border-bottom-color: var(--fill-color);\n",
              "    animation:\n",
              "      spin 1s steps(1) infinite;\n",
              "  }\n",
              "\n",
              "  @keyframes spin {\n",
              "    0% {\n",
              "      border-color: transparent;\n",
              "      border-bottom-color: var(--fill-color);\n",
              "      border-left-color: var(--fill-color);\n",
              "    }\n",
              "    20% {\n",
              "      border-color: transparent;\n",
              "      border-left-color: var(--fill-color);\n",
              "      border-top-color: var(--fill-color);\n",
              "    }\n",
              "    30% {\n",
              "      border-color: transparent;\n",
              "      border-left-color: var(--fill-color);\n",
              "      border-top-color: var(--fill-color);\n",
              "      border-right-color: var(--fill-color);\n",
              "    }\n",
              "    40% {\n",
              "      border-color: transparent;\n",
              "      border-right-color: var(--fill-color);\n",
              "      border-top-color: var(--fill-color);\n",
              "    }\n",
              "    60% {\n",
              "      border-color: transparent;\n",
              "      border-right-color: var(--fill-color);\n",
              "    }\n",
              "    80% {\n",
              "      border-color: transparent;\n",
              "      border-right-color: var(--fill-color);\n",
              "      border-bottom-color: var(--fill-color);\n",
              "    }\n",
              "    90% {\n",
              "      border-color: transparent;\n",
              "      border-bottom-color: var(--fill-color);\n",
              "    }\n",
              "  }\n",
              "</style>\n",
              "\n",
              "      <script>\n",
              "        async function quickchart(key) {\n",
              "          const quickchartButtonEl =\n",
              "            document.querySelector('#' + key + ' button');\n",
              "          quickchartButtonEl.disabled = true;  // To prevent multiple clicks.\n",
              "          quickchartButtonEl.classList.add('colab-df-spinner');\n",
              "          try {\n",
              "            const charts = await google.colab.kernel.invokeFunction(\n",
              "                'suggestCharts', [key], {});\n",
              "          } catch (error) {\n",
              "            console.error('Error during call to suggestCharts:', error);\n",
              "          }\n",
              "          quickchartButtonEl.classList.remove('colab-df-spinner');\n",
              "          quickchartButtonEl.classList.add('colab-df-quickchart-complete');\n",
              "        }\n",
              "        (() => {\n",
              "          let quickchartButtonEl =\n",
              "            document.querySelector('#df-f2280d23-8b73-4cd2-acb8-537d09c79620 button');\n",
              "          quickchartButtonEl.style.display =\n",
              "            google.colab.kernel.accessAllowed ? 'block' : 'none';\n",
              "        })();\n",
              "      </script>\n",
              "    </div>\n",
              "\n",
              "    </div>\n",
              "  </div>\n"
            ],
            "application/vnd.google.colaboratory.intrinsic+json": {
              "type": "dataframe",
              "variable_name": "raw_data"
            }
          },
          "metadata": {},
          "execution_count": 17
        }
      ]
    },
    {
      "cell_type": "code",
      "source": [
        "split_dict = split_data(raw_data, 'y')\n",
        "print(split_dict.keys())                     # dict_keys(['train', 'test'])\n",
        "print(split_dict['train'].shape)\n",
        "print(split_dict['test'].shape)"
      ],
      "metadata": {
        "colab": {
          "base_uri": "https://localhost:8080/"
        },
        "id": "OEOU7MdPRxLY",
        "outputId": "7f5b4134-b464-4586-86ca-7b6e078dfa33"
      },
      "execution_count": 50,
      "outputs": [
        {
          "output_type": "stream",
          "name": "stdout",
          "text": [
            "dict_keys(['train', 'test'])\n",
            "(32940, 23)\n",
            "(8236, 23)\n"
          ]
        }
      ]
    },
    {
      "cell_type": "code",
      "source": [
        "input_cols = list(raw_data.drop(columns=['duration', 'y']).columns)\n",
        "target_col = 'y'"
      ],
      "metadata": {
        "id": "1dB06rFqR5m9"
      },
      "execution_count": 51,
      "outputs": []
    },
    {
      "cell_type": "code",
      "source": [
        "data_dict = create_inputs_and_targets(split_dict, input_cols, target_col)\n",
        "print(data_dict.keys())                      # dict_keys([...inputs..., ...targets...])\n",
        "print(data_dict['train_inputs'].shape)\n",
        "print(data_dict['train_targets'].value_counts())"
      ],
      "metadata": {
        "colab": {
          "base_uri": "https://localhost:8080/"
        },
        "id": "nIOIoBF5R_1q",
        "outputId": "9acb0e91-0edd-475b-e694-c4ed9a39c39a"
      },
      "execution_count": 52,
      "outputs": [
        {
          "output_type": "stream",
          "name": "stdout",
          "text": [
            "dict_keys(['train_inputs', 'train_targets', 'test_inputs', 'test_targets'])\n",
            "(32940, 22)\n",
            "y\n",
            "0    29229\n",
            "1     3711\n",
            "Name: count, dtype: int64\n"
          ]
        }
      ]
    },
    {
      "cell_type": "code",
      "source": [
        "train_inputs, train_targets = data_dict['train_inputs'], data_dict['train_targets']\n",
        "test_inputs, test_targets = data_dict['test_inputs'], data_dict['test_targets']"
      ],
      "metadata": {
        "id": "uwyvzoEUYv12"
      },
      "execution_count": 53,
      "outputs": []
    },
    {
      "cell_type": "code",
      "source": [
        "print(train_inputs.shape)\n",
        "print(train_targets.value_counts())\n",
        "print(test_inputs.shape)\n",
        "print(test_targets.value_counts())"
      ],
      "metadata": {
        "colab": {
          "base_uri": "https://localhost:8080/"
        },
        "id": "t0ilkXQjY1A5",
        "outputId": "d93d358c-557b-44e7-a366-4efcf3cce131"
      },
      "execution_count": 54,
      "outputs": [
        {
          "output_type": "stream",
          "name": "stdout",
          "text": [
            "(32940, 22)\n",
            "y\n",
            "0    29229\n",
            "1     3711\n",
            "Name: count, dtype: int64\n",
            "(8236, 22)\n",
            "y\n",
            "0    7308\n",
            "1     928\n",
            "Name: count, dtype: int64\n"
          ]
        }
      ]
    },
    {
      "cell_type": "code",
      "source": [
        "#Identify numeric and categorical columns\n",
        "numeric_cols = train_inputs.select_dtypes(include='number').columns.to_list()\n",
        "categorical_cols = train_inputs.select_dtypes(include='object').columns.to_list()"
      ],
      "metadata": {
        "id": "4SvJYSprZBAi"
      },
      "execution_count": 56,
      "outputs": []
    },
    {
      "cell_type": "code",
      "source": [
        "print(train_inputs[numeric_cols].describe())\n",
        "print(train_inputs[categorical_cols].nunique())"
      ],
      "metadata": {
        "colab": {
          "base_uri": "https://localhost:8080/"
        },
        "id": "TE5gE_llaB6W",
        "outputId": "c2b6f436-c9c0-4234-8460-3ab2d5d849e6"
      },
      "execution_count": 57,
      "outputs": [
        {
          "output_type": "stream",
          "name": "stdout",
          "text": [
            "                age      campaign         pdays      previous  emp.var.rate  \\\n",
            "count  32940.000000  32940.000000  32940.000000  32940.000000  32940.000000   \n",
            "mean      40.017122      2.561961    962.617243      0.173801      0.080134   \n",
            "std       10.453345      2.769972    186.555316      0.498578      1.571503   \n",
            "min       17.000000      1.000000      0.000000      0.000000     -3.400000   \n",
            "25%       32.000000      1.000000    999.000000      0.000000     -1.800000   \n",
            "50%       38.000000      2.000000    999.000000      0.000000      1.100000   \n",
            "75%       47.000000      3.000000    999.000000      0.000000      1.400000   \n",
            "max       98.000000     56.000000    999.000000      7.000000      1.400000   \n",
            "\n",
            "       cons.price.idx  cons.conf.idx     euribor3m   nr.employed  \\\n",
            "count    32940.000000   32940.000000  32940.000000  32940.000000   \n",
            "mean        93.575607     -40.509824      3.618053   5166.905950   \n",
            "std          0.579469       4.629072      1.735931     72.397892   \n",
            "min         92.201000     -50.800000      0.634000   4963.600000   \n",
            "25%         93.075000     -42.700000      1.344000   5099.100000   \n",
            "50%         93.749000     -41.800000      4.857000   5191.000000   \n",
            "75%         93.994000     -36.400000      4.961000   5228.100000   \n",
            "max         94.767000     -26.900000      5.045000   5228.100000   \n",
            "\n",
            "       cons.price.idx_diff     y_numeric  \n",
            "count         32940.000000  32940.000000  \n",
            "mean             -0.152551      0.112659  \n",
            "std               0.353456      0.316181  \n",
            "min              -0.598000      0.000000  \n",
            "25%              -0.547000      0.000000  \n",
            "50%              -0.182000      0.000000  \n",
            "75%               0.070000      0.000000  \n",
            "max               0.656000      1.000000  \n",
            "job                12\n",
            "marital             4\n",
            "education           8\n",
            "default             2\n",
            "housing             3\n",
            "loan                3\n",
            "contact             2\n",
            "month              10\n",
            "day_of_week         5\n",
            "poutcome            3\n",
            "default_grouped     2\n",
            "dtype: int64\n"
          ]
        }
      ]
    },
    {
      "cell_type": "markdown",
      "source": [
        "## Preprocessing"
      ],
      "metadata": {
        "id": "U2ZpZOQYaIX8"
      }
    },
    {
      "cell_type": "code",
      "source": [
        "#Scaling of the numeric columns\n",
        "scaler = MinMaxScaler()\n",
        "numerical_transformer = Pipeline(steps=[\n",
        "    ('scaler', scaler)\n",
        "])"
      ],
      "metadata": {
        "id": "jRr0fP-daJoj"
      },
      "execution_count": 58,
      "outputs": []
    },
    {
      "cell_type": "code",
      "source": [
        "#Encoding of the categorical columns\n",
        "encoder = OneHotEncoder(\n",
        "    sparse_output=False, handle_unknown='ignore'\n",
        ")\n",
        "\n",
        "categorical_transformer = Pipeline(steps=[\n",
        "    ('onehot_enc', encoder)\n",
        "])"
      ],
      "metadata": {
        "id": "f8abRuPtabuq"
      },
      "execution_count": 59,
      "outputs": []
    },
    {
      "cell_type": "code",
      "source": [
        "model_pipeline = Pipeline(steps=[\n",
        "    ('preprocessor', preprocessor),\n",
        "    ('classifier', clf)\n",
        "])\n"
      ],
      "metadata": {
        "id": "lR93BL7lbt5d"
      },
      "execution_count": 62,
      "outputs": []
    },
    {
      "cell_type": "markdown",
      "source": [
        "## LogisticRegression"
      ],
      "metadata": {
        "id": "tHThvCDiaqDE"
      }
    },
    {
      "cell_type": "code",
      "source": [
        "# Combine transformers into a preprocessor\n",
        "preprocessor = ColumnTransformer(\n",
        "    transformers=[\n",
        "        ('num', numerical_transformer, numeric_cols),\n",
        "        ('cat', categorical_transformer, categorical_cols)\n",
        "], remainder='passthrough',\n",
        "verbose_feature_names_out=False)\n",
        "\n",
        "preprocessor.set_output(transform='pandas')\n",
        "\n",
        "clf = LogisticRegression(random_state=42, solver='liblinear', class_weight='balanced')\n",
        "\n",
        "model_pipeline = Pipeline(steps=[\n",
        "    ('preprocessor', preprocessor),\n",
        "    ('classifier', clf)\n",
        "])\n",
        "\n",
        "shuffled_targets = np.random.permutation(train_targets)\n",
        "\n",
        "get_auc(model_pipeline, train_inputs, shuffled_targets)"
      ],
      "metadata": {
        "colab": {
          "base_uri": "https://localhost:8080/"
        },
        "id": "HoieOLKVariP",
        "outputId": "69e81da8-502a-41fb-ae1f-e4c3e0f31d17"
      },
      "execution_count": 80,
      "outputs": [
        {
          "output_type": "stream",
          "name": "stdout",
          "text": [
            "AUROC score on train set:: 0.534\n",
            "AUROC score on validation set:: 0.494\n"
          ]
        },
        {
          "output_type": "execute_result",
          "data": {
            "text/plain": [
              "(np.float64(0.5338188963779534), np.float64(0.49395442389761796))"
            ]
          },
          "metadata": {},
          "execution_count": 80
        }
      ]
    },
    {
      "cell_type": "code",
      "source": [
        "for col in train_inputs.columns:\n",
        "    print(col, train_inputs[col].nunique())"
      ],
      "metadata": {
        "colab": {
          "base_uri": "https://localhost:8080/"
        },
        "id": "lmy53sdSbMV0",
        "outputId": "a539c7f6-327e-4397-f9e7-d635ebfa3eb5"
      },
      "execution_count": 81,
      "outputs": [
        {
          "output_type": "stream",
          "name": "stdout",
          "text": [
            "age 77\n",
            "job 12\n",
            "marital 4\n",
            "education 8\n",
            "default 2\n",
            "housing 3\n",
            "loan 3\n",
            "contact 2\n",
            "month 10\n",
            "day_of_week 5\n",
            "campaign 41\n",
            "pdays 27\n",
            "previous 8\n",
            "poutcome 3\n",
            "emp.var.rate 10\n",
            "cons.price.idx 26\n",
            "cons.conf.idx 26\n",
            "euribor3m 312\n",
            "nr.employed 11\n",
            "cons.price.idx_diff 26\n",
            "default_grouped 2\n"
          ]
        }
      ]
    },
    {
      "cell_type": "code",
      "source": [
        "df_debug = train_inputs.copy()\n",
        "df_debug['target'] = train_targets.values\n",
        "print(df_debug.head())"
      ],
      "metadata": {
        "colab": {
          "base_uri": "https://localhost:8080/"
        },
        "id": "Sy_uy4_mcKra",
        "outputId": "e59014a5-36fb-49d2-9005-2d72047737ac"
      },
      "execution_count": 82,
      "outputs": [
        {
          "output_type": "stream",
          "name": "stdout",
          "text": [
            "       age            job  marital            education default housing loan  \\\n",
            "36444   24     technician   single  professional.course      no      no   no   \n",
            "1233    32    blue-collar  married  professional.course      no      no   no   \n",
            "24104   33  self-employed   single    university.degree      no      no   no   \n",
            "15513   38   entrepreneur  married             basic.9y      no      no  yes   \n",
            "17912   39       services  married          high.school      no     yes  yes   \n",
            "\n",
            "         contact month day_of_week  ...  previous     poutcome  emp.var.rate  \\\n",
            "36444   cellular   jun         tue  ...         1      failure          -2.9   \n",
            "1233   telephone   may         thu  ...         0  nonexistent           1.1   \n",
            "24104  telephone   nov         thu  ...         0  nonexistent          -0.1   \n",
            "15513  telephone   jul         fri  ...         0  nonexistent           1.4   \n",
            "17912   cellular   jul         tue  ...         0  nonexistent           1.4   \n",
            "\n",
            "      cons.price.idx  cons.conf.idx  euribor3m  nr.employed  \\\n",
            "36444         92.963          -40.8      1.262       5076.2   \n",
            "1233          93.994          -36.4      4.855       5191.0   \n",
            "24104         93.200          -42.0      4.245       5195.8   \n",
            "15513         93.918          -42.7      4.957       5228.1   \n",
            "17912         93.918          -42.7      4.961       5228.1   \n",
            "\n",
            "       cons.price.idx_diff  default_grouped  target  \n",
            "36444                0.070               no       0  \n",
            "1233                 0.000               no       1  \n",
            "24104               -0.598               no       0  \n",
            "15513               -0.547               no       0  \n",
            "17912               -0.547               no       0  \n",
            "\n",
            "[5 rows x 22 columns]\n"
          ]
        }
      ]
    },
    {
      "cell_type": "code",
      "source": [
        "leak_cols = ['duration', 'y', 'y_numeric', 'target']"
      ],
      "metadata": {
        "id": "D6WE18AbcfsK"
      },
      "execution_count": 83,
      "outputs": []
    },
    {
      "cell_type": "code",
      "source": [
        "split_dict = split_data(raw_data, 'y')\n",
        "data_dict = create_inputs_and_targets(split_dict, input_cols, 'y')\n",
        "\n",
        "train_inputs, train_targets = data_dict['train_inputs'], data_dict['train_targets']\n",
        "test_inputs, test_targets = data_dict['test_inputs'], data_dict['test_targets']"
      ],
      "metadata": {
        "id": "zT-PI23Jc6Wp"
      },
      "execution_count": 84,
      "outputs": []
    },
    {
      "cell_type": "code",
      "source": [
        "clf = LogisticRegression(random_state=42, solver='liblinear', class_weight='balanced')"
      ],
      "metadata": {
        "id": "xRtDACosdBhx"
      },
      "execution_count": 85,
      "outputs": []
    },
    {
      "cell_type": "code",
      "source": [
        "numeric_cols = train_inputs.select_dtypes(include='number').columns.to_list()\n",
        "categorical_cols = train_inputs.select_dtypes(include='object').columns.to_list()"
      ],
      "metadata": {
        "id": "BAlUJY3Vd7fX"
      },
      "execution_count": 86,
      "outputs": []
    },
    {
      "cell_type": "code",
      "source": [
        "model_pipeline = Pipeline(steps=[\n",
        "    ('preprocessor', preprocessor),\n",
        "    ('classifier', clf)\n",
        "])"
      ],
      "metadata": {
        "id": "BBOsauNSdSPi"
      },
      "execution_count": 87,
      "outputs": []
    },
    {
      "cell_type": "code",
      "source": [
        "# Combine transformers into a preprocessor\n",
        "preprocessor = ColumnTransformer(\n",
        "    transformers=[\n",
        "        ('num', numerical_transformer, numeric_cols),\n",
        "        ('cat', categorical_transformer, categorical_cols)\n",
        "], remainder='passthrough',\n",
        "verbose_feature_names_out=False)\n",
        "\n",
        "preprocessor.set_output(transform='pandas')\n",
        "\n",
        "clf = LogisticRegression(random_state=42, solver='liblinear', class_weight='balanced')\n",
        "\n",
        "model_pipeline = Pipeline(steps=[\n",
        "    ('preprocessor', preprocessor),\n",
        "    ('classifier', clf)\n",
        "])\n",
        "\n",
        "get_auc(model_pipeline, train_inputs, train_targets)\n",
        "\n",
        "get_confusion_matrix(model_pipeline, train_inputs, train_targets)"
      ],
      "metadata": {
        "colab": {
          "base_uri": "https://localhost:8080/",
          "height": 369
        },
        "id": "gsHSxHLEdYN1",
        "outputId": "5486bb01-0c77-4a31-bf08-0a1a03f5579e"
      },
      "execution_count": 88,
      "outputs": [
        {
          "output_type": "stream",
          "name": "stdout",
          "text": [
            "AUROC score on train set:: 0.796\n",
            "AUROC score on validation set:: 0.791\n"
          ]
        },
        {
          "output_type": "display_data",
          "data": {
            "text/plain": [
              "<Figure size 400x300 with 2 Axes>"
            ],
            "image/png": "[encoded data removed]"
          },
          "metadata": {}
        }
      ]
    },
    {
      "cell_type": "markdown",
      "source": [
        "The logistic regression model demonstrates solid predictive performance, achieving an AUROC of approximately 0.79 on both the training and validation sets. This indicates that the model has learned meaningful patterns in the data without overfitting. The confusion matrix shows that the model correctly identifies the majority of “no” responses (85%) and a substantial portion of “yes” responses (63%), although there is still room for improvement in detecting positive cases.\n",
        "\n",
        "To further enhance model performance, it may be beneficial to explore advanced feature engineering, try ensemble models (such as Random Forest or XGBoost), and consider resampling techniques to address potential class imbalance. Overall, the current results are realistic and reflect a healthy modeling workflow without target leakage."
      ],
      "metadata": {
        "id": "f15Gw8nOgMs9"
      }
    },
    {
      "cell_type": "markdown",
      "source": [
        "## Feature engineering"
      ],
      "metadata": {
        "id": "TOtRdTTDgQs_"
      }
    },
    {
      "cell_type": "code",
      "source": [
        "train_inputs.columns"
      ],
      "metadata": {
        "colab": {
          "base_uri": "https://localhost:8080/"
        },
        "id": "lcZ5VUR3gLST",
        "outputId": "a60df863-76c0-4b85-997a-d40a5d08f94e"
      },
      "execution_count": 89,
      "outputs": [
        {
          "output_type": "execute_result",
          "data": {
            "text/plain": [
              "Index(['age', 'job', 'marital', 'education', 'default', 'housing', 'loan',\n",
              "       'contact', 'month', 'day_of_week', 'campaign', 'pdays', 'previous',\n",
              "       'poutcome', 'emp.var.rate', 'cons.price.idx', 'cons.conf.idx',\n",
              "       'euribor3m', 'nr.employed', 'cons.price.idx_diff', 'default_grouped'],\n",
              "      dtype='object')"
            ]
          },
          "metadata": {},
          "execution_count": 89
        }
      ]
    },
    {
      "cell_type": "code",
      "source": [
        "#Categorize the age feature\n",
        "train_inputs['age'][:10]"
      ],
      "metadata": {
        "colab": {
          "base_uri": "https://localhost:8080/",
          "height": 398
        },
        "id": "oyT7MNuPgbWu",
        "outputId": "1a72c783-5c4e-4484-f360-92b0c1a25535"
      },
      "execution_count": 90,
      "outputs": [
        {
          "output_type": "execute_result",
          "data": {
            "text/plain": [
              "36444    24\n",
              "1233     32\n",
              "24104    33\n",
              "15513    38\n",
              "17912    39\n",
              "8504     43\n",
              "24130    57\n",
              "2680     55\n",
              "5824     36\n",
              "37518    57\n",
              "Name: age, dtype: int64"
            ],
            "text/html": [
              "<div>\n",
              "<style scoped>\n",
              "    .dataframe tbody tr th:only-of-type {\n",
              "        vertical-align: middle;\n",
              "    }\n",
              "\n",
              "    .dataframe tbody tr th {\n",
              "        vertical-align: top;\n",
              "    }\n",
              "\n",
              "    .dataframe thead th {\n",
              "        text-align: right;\n",
              "    }\n",
              "</style>\n",
              "<table border=\"1\" class=\"dataframe\">\n",
              "  <thead>\n",
              "    <tr style=\"text-align: right;\">\n",
              "      <th></th>\n",
              "      <th>age</th>\n",
              "    </tr>\n",
              "  </thead>\n",
              "  <tbody>\n",
              "    <tr>\n",
              "      <th>36444</th>\n",
              "      <td>24</td>\n",
              "    </tr>\n",
              "    <tr>\n",
              "      <th>1233</th>\n",
              "      <td>32</td>\n",
              "    </tr>\n",
              "    <tr>\n",
              "      <th>24104</th>\n",
              "      <td>33</td>\n",
              "    </tr>\n",
              "    <tr>\n",
              "      <th>15513</th>\n",
              "      <td>38</td>\n",
              "    </tr>\n",
              "    <tr>\n",
              "      <th>17912</th>\n",
              "      <td>39</td>\n",
              "    </tr>\n",
              "    <tr>\n",
              "      <th>8504</th>\n",
              "      <td>43</td>\n",
              "    </tr>\n",
              "    <tr>\n",
              "      <th>24130</th>\n",
              "      <td>57</td>\n",
              "    </tr>\n",
              "    <tr>\n",
              "      <th>2680</th>\n",
              "      <td>55</td>\n",
              "    </tr>\n",
              "    <tr>\n",
              "      <th>5824</th>\n",
              "      <td>36</td>\n",
              "    </tr>\n",
              "    <tr>\n",
              "      <th>37518</th>\n",
              "      <td>57</td>\n",
              "    </tr>\n",
              "  </tbody>\n",
              "</table>\n",
              "</div><br><label><b>dtype:</b> int64</label>"
            ]
          },
          "metadata": {},
          "execution_count": 90
        }
      ]
    },
    {
      "cell_type": "code",
      "source": [
        "train_inputs['age_cat'] = (train_inputs['age'] // 10)"
      ],
      "metadata": {
        "id": "Q064x7hrgjj-"
      },
      "execution_count": 91,
      "outputs": []
    },
    {
      "cell_type": "code",
      "source": [
        "train_inputs['age_cat'][:10]"
      ],
      "metadata": {
        "colab": {
          "base_uri": "https://localhost:8080/",
          "height": 398
        },
        "id": "s041DCBogm0E",
        "outputId": "053d5253-5a7d-4ddb-e008-fb5cb4c22b10"
      },
      "execution_count": 92,
      "outputs": [
        {
          "output_type": "execute_result",
          "data": {
            "text/plain": [
              "36444    2\n",
              "1233     3\n",
              "24104    3\n",
              "15513    3\n",
              "17912    3\n",
              "8504     4\n",
              "24130    5\n",
              "2680     5\n",
              "5824     3\n",
              "37518    5\n",
              "Name: age_cat, dtype: int64"
            ],
            "text/html": [
              "<div>\n",
              "<style scoped>\n",
              "    .dataframe tbody tr th:only-of-type {\n",
              "        vertical-align: middle;\n",
              "    }\n",
              "\n",
              "    .dataframe tbody tr th {\n",
              "        vertical-align: top;\n",
              "    }\n",
              "\n",
              "    .dataframe thead th {\n",
              "        text-align: right;\n",
              "    }\n",
              "</style>\n",
              "<table border=\"1\" class=\"dataframe\">\n",
              "  <thead>\n",
              "    <tr style=\"text-align: right;\">\n",
              "      <th></th>\n",
              "      <th>age_cat</th>\n",
              "    </tr>\n",
              "  </thead>\n",
              "  <tbody>\n",
              "    <tr>\n",
              "      <th>36444</th>\n",
              "      <td>2</td>\n",
              "    </tr>\n",
              "    <tr>\n",
              "      <th>1233</th>\n",
              "      <td>3</td>\n",
              "    </tr>\n",
              "    <tr>\n",
              "      <th>24104</th>\n",
              "      <td>3</td>\n",
              "    </tr>\n",
              "    <tr>\n",
              "      <th>15513</th>\n",
              "      <td>3</td>\n",
              "    </tr>\n",
              "    <tr>\n",
              "      <th>17912</th>\n",
              "      <td>3</td>\n",
              "    </tr>\n",
              "    <tr>\n",
              "      <th>8504</th>\n",
              "      <td>4</td>\n",
              "    </tr>\n",
              "    <tr>\n",
              "      <th>24130</th>\n",
              "      <td>5</td>\n",
              "    </tr>\n",
              "    <tr>\n",
              "      <th>2680</th>\n",
              "      <td>5</td>\n",
              "    </tr>\n",
              "    <tr>\n",
              "      <th>5824</th>\n",
              "      <td>3</td>\n",
              "    </tr>\n",
              "    <tr>\n",
              "      <th>37518</th>\n",
              "      <td>5</td>\n",
              "    </tr>\n",
              "  </tbody>\n",
              "</table>\n",
              "</div><br><label><b>dtype:</b> int64</label>"
            ]
          },
          "metadata": {},
          "execution_count": 92
        }
      ]
    },
    {
      "cell_type": "code",
      "source": [
        "train_inputs['age_cat'].value_counts()"
      ],
      "metadata": {
        "colab": {
          "base_uri": "https://localhost:8080/",
          "height": 398
        },
        "id": "i-dCCpSpguvn",
        "outputId": "3191b9ef-6c24-4206-f8a3-0df415cadcdf"
      },
      "execution_count": 93,
      "outputs": [
        {
          "output_type": "execute_result",
          "data": {
            "text/plain": [
              "age_cat\n",
              "3    13507\n",
              "4     8426\n",
              "5     5440\n",
              "2     4534\n",
              "6      594\n",
              "7      258\n",
              "8      115\n",
              "1       56\n",
              "9       10\n",
              "Name: count, dtype: int64"
            ],
            "text/html": [
              "<div>\n",
              "<style scoped>\n",
              "    .dataframe tbody tr th:only-of-type {\n",
              "        vertical-align: middle;\n",
              "    }\n",
              "\n",
              "    .dataframe tbody tr th {\n",
              "        vertical-align: top;\n",
              "    }\n",
              "\n",
              "    .dataframe thead th {\n",
              "        text-align: right;\n",
              "    }\n",
              "</style>\n",
              "<table border=\"1\" class=\"dataframe\">\n",
              "  <thead>\n",
              "    <tr style=\"text-align: right;\">\n",
              "      <th></th>\n",
              "      <th>count</th>\n",
              "    </tr>\n",
              "    <tr>\n",
              "      <th>age_cat</th>\n",
              "      <th></th>\n",
              "    </tr>\n",
              "  </thead>\n",
              "  <tbody>\n",
              "    <tr>\n",
              "      <th>3</th>\n",
              "      <td>13507</td>\n",
              "    </tr>\n",
              "    <tr>\n",
              "      <th>4</th>\n",
              "      <td>8426</td>\n",
              "    </tr>\n",
              "    <tr>\n",
              "      <th>5</th>\n",
              "      <td>5440</td>\n",
              "    </tr>\n",
              "    <tr>\n",
              "      <th>2</th>\n",
              "      <td>4534</td>\n",
              "    </tr>\n",
              "    <tr>\n",
              "      <th>6</th>\n",
              "      <td>594</td>\n",
              "    </tr>\n",
              "    <tr>\n",
              "      <th>7</th>\n",
              "      <td>258</td>\n",
              "    </tr>\n",
              "    <tr>\n",
              "      <th>8</th>\n",
              "      <td>115</td>\n",
              "    </tr>\n",
              "    <tr>\n",
              "      <th>1</th>\n",
              "      <td>56</td>\n",
              "    </tr>\n",
              "    <tr>\n",
              "      <th>9</th>\n",
              "      <td>10</td>\n",
              "    </tr>\n",
              "  </tbody>\n",
              "</table>\n",
              "</div><br><label><b>dtype:</b> int64</label>"
            ]
          },
          "metadata": {},
          "execution_count": 93
        }
      ]
    },
    {
      "cell_type": "code",
      "source": [
        "#campaign\n",
        "train_inputs['is_only_one_contact'] = (train_inputs['campaign'] == 1).astype(int)"
      ],
      "metadata": {
        "id": "ry8KLS_Jg4Dt"
      },
      "execution_count": 95,
      "outputs": []
    },
    {
      "cell_type": "code",
      "source": [
        "display(train_inputs['campaign'].value_counts()[:5])\n",
        "display(train_inputs['is_only_one_contact'].value_counts())"
      ],
      "metadata": {
        "colab": {
          "base_uri": "https://localhost:8080/",
          "height": 433
        },
        "id": "oagwq_t7hDN0",
        "outputId": "0d7bdbf5-f6e7-42e1-9aca-20fddb86eb77"
      },
      "execution_count": 96,
      "outputs": [
        {
          "output_type": "display_data",
          "data": {
            "text/plain": [
              "campaign\n",
              "1    14158\n",
              "2     8409\n",
              "3     4280\n",
              "4     2094\n",
              "5     1292\n",
              "Name: count, dtype: int64"
            ],
            "text/html": [
              "<div>\n",
              "<style scoped>\n",
              "    .dataframe tbody tr th:only-of-type {\n",
              "        vertical-align: middle;\n",
              "    }\n",
              "\n",
              "    .dataframe tbody tr th {\n",
              "        vertical-align: top;\n",
              "    }\n",
              "\n",
              "    .dataframe thead th {\n",
              "        text-align: right;\n",
              "    }\n",
              "</style>\n",
              "<table border=\"1\" class=\"dataframe\">\n",
              "  <thead>\n",
              "    <tr style=\"text-align: right;\">\n",
              "      <th></th>\n",
              "      <th>count</th>\n",
              "    </tr>\n",
              "    <tr>\n",
              "      <th>campaign</th>\n",
              "      <th></th>\n",
              "    </tr>\n",
              "  </thead>\n",
              "  <tbody>\n",
              "    <tr>\n",
              "      <th>1</th>\n",
              "      <td>14158</td>\n",
              "    </tr>\n",
              "    <tr>\n",
              "      <th>2</th>\n",
              "      <td>8409</td>\n",
              "    </tr>\n",
              "    <tr>\n",
              "      <th>3</th>\n",
              "      <td>4280</td>\n",
              "    </tr>\n",
              "    <tr>\n",
              "      <th>4</th>\n",
              "      <td>2094</td>\n",
              "    </tr>\n",
              "    <tr>\n",
              "      <th>5</th>\n",
              "      <td>1292</td>\n",
              "    </tr>\n",
              "  </tbody>\n",
              "</table>\n",
              "</div><br><label><b>dtype:</b> int64</label>"
            ]
          },
          "metadata": {}
        },
        {
          "output_type": "display_data",
          "data": {
            "text/plain": [
              "is_only_one_contact\n",
              "0    18782\n",
              "1    14158\n",
              "Name: count, dtype: int64"
            ],
            "text/html": [
              "<div>\n",
              "<style scoped>\n",
              "    .dataframe tbody tr th:only-of-type {\n",
              "        vertical-align: middle;\n",
              "    }\n",
              "\n",
              "    .dataframe tbody tr th {\n",
              "        vertical-align: top;\n",
              "    }\n",
              "\n",
              "    .dataframe thead th {\n",
              "        text-align: right;\n",
              "    }\n",
              "</style>\n",
              "<table border=\"1\" class=\"dataframe\">\n",
              "  <thead>\n",
              "    <tr style=\"text-align: right;\">\n",
              "      <th></th>\n",
              "      <th>count</th>\n",
              "    </tr>\n",
              "    <tr>\n",
              "      <th>is_only_one_contact</th>\n",
              "      <th></th>\n",
              "    </tr>\n",
              "  </thead>\n",
              "  <tbody>\n",
              "    <tr>\n",
              "      <th>0</th>\n",
              "      <td>18782</td>\n",
              "    </tr>\n",
              "    <tr>\n",
              "      <th>1</th>\n",
              "      <td>14158</td>\n",
              "    </tr>\n",
              "  </tbody>\n",
              "</table>\n",
              "</div><br><label><b>dtype:</b> int64</label>"
            ]
          },
          "metadata": {}
        }
      ]
    },
    {
      "cell_type": "code",
      "source": [
        "display(train_inputs['campaign'].value_counts()[:7])"
      ],
      "metadata": {
        "colab": {
          "base_uri": "https://localhost:8080/",
          "height": 335
        },
        "id": "3mYb0XnthHl_",
        "outputId": "51db9963-edd9-4ef6-c3c0-78447fc84f23"
      },
      "execution_count": 97,
      "outputs": [
        {
          "output_type": "display_data",
          "data": {
            "text/plain": [
              "campaign\n",
              "1    14158\n",
              "2     8409\n",
              "3     4280\n",
              "4     2094\n",
              "5     1292\n",
              "6      796\n",
              "7      510\n",
              "Name: count, dtype: int64"
            ],
            "text/html": [
              "<div>\n",
              "<style scoped>\n",
              "    .dataframe tbody tr th:only-of-type {\n",
              "        vertical-align: middle;\n",
              "    }\n",
              "\n",
              "    .dataframe tbody tr th {\n",
              "        vertical-align: top;\n",
              "    }\n",
              "\n",
              "    .dataframe thead th {\n",
              "        text-align: right;\n",
              "    }\n",
              "</style>\n",
              "<table border=\"1\" class=\"dataframe\">\n",
              "  <thead>\n",
              "    <tr style=\"text-align: right;\">\n",
              "      <th></th>\n",
              "      <th>count</th>\n",
              "    </tr>\n",
              "    <tr>\n",
              "      <th>campaign</th>\n",
              "      <th></th>\n",
              "    </tr>\n",
              "  </thead>\n",
              "  <tbody>\n",
              "    <tr>\n",
              "      <th>1</th>\n",
              "      <td>14158</td>\n",
              "    </tr>\n",
              "    <tr>\n",
              "      <th>2</th>\n",
              "      <td>8409</td>\n",
              "    </tr>\n",
              "    <tr>\n",
              "      <th>3</th>\n",
              "      <td>4280</td>\n",
              "    </tr>\n",
              "    <tr>\n",
              "      <th>4</th>\n",
              "      <td>2094</td>\n",
              "    </tr>\n",
              "    <tr>\n",
              "      <th>5</th>\n",
              "      <td>1292</td>\n",
              "    </tr>\n",
              "    <tr>\n",
              "      <th>6</th>\n",
              "      <td>796</td>\n",
              "    </tr>\n",
              "    <tr>\n",
              "      <th>7</th>\n",
              "      <td>510</td>\n",
              "    </tr>\n",
              "  </tbody>\n",
              "</table>\n",
              "</div><br><label><b>dtype:</b> int64</label>"
            ]
          },
          "metadata": {}
        }
      ]
    },
    {
      "cell_type": "code",
      "source": [
        "train_inputs['more_than_six_contacts'] = (train_inputs['campaign'] > 6).astype(int)\n",
        "train_inputs['more_than_six_contacts'].value_counts()"
      ],
      "metadata": {
        "colab": {
          "base_uri": "https://localhost:8080/",
          "height": 178
        },
        "id": "INxPp7XehP3L",
        "outputId": "1a1c83ef-898c-442b-ed4c-aadcfb90a17c"
      },
      "execution_count": 98,
      "outputs": [
        {
          "output_type": "execute_result",
          "data": {
            "text/plain": [
              "more_than_six_contacts\n",
              "0    31029\n",
              "1     1911\n",
              "Name: count, dtype: int64"
            ],
            "text/html": [
              "<div>\n",
              "<style scoped>\n",
              "    .dataframe tbody tr th:only-of-type {\n",
              "        vertical-align: middle;\n",
              "    }\n",
              "\n",
              "    .dataframe tbody tr th {\n",
              "        vertical-align: top;\n",
              "    }\n",
              "\n",
              "    .dataframe thead th {\n",
              "        text-align: right;\n",
              "    }\n",
              "</style>\n",
              "<table border=\"1\" class=\"dataframe\">\n",
              "  <thead>\n",
              "    <tr style=\"text-align: right;\">\n",
              "      <th></th>\n",
              "      <th>count</th>\n",
              "    </tr>\n",
              "    <tr>\n",
              "      <th>more_than_six_contacts</th>\n",
              "      <th></th>\n",
              "    </tr>\n",
              "  </thead>\n",
              "  <tbody>\n",
              "    <tr>\n",
              "      <th>0</th>\n",
              "      <td>31029</td>\n",
              "    </tr>\n",
              "    <tr>\n",
              "      <th>1</th>\n",
              "      <td>1911</td>\n",
              "    </tr>\n",
              "  </tbody>\n",
              "</table>\n",
              "</div><br><label><b>dtype:</b> int64</label>"
            ]
          },
          "metadata": {},
          "execution_count": 98
        }
      ]
    },
    {
      "cell_type": "code",
      "source": [
        "#previous\n",
        "train_inputs['previous'].value_counts()"
      ],
      "metadata": {
        "colab": {
          "base_uri": "https://localhost:8080/",
          "height": 366
        },
        "id": "nERefLoAhTS-",
        "outputId": "86154bde-ab03-471d-88bc-50f8a1b919f8"
      },
      "execution_count": 99,
      "outputs": [
        {
          "output_type": "execute_result",
          "data": {
            "text/plain": [
              "previous\n",
              "0    28431\n",
              "1     3660\n",
              "2      592\n",
              "3      175\n",
              "4       61\n",
              "5       15\n",
              "6        5\n",
              "7        1\n",
              "Name: count, dtype: int64"
            ],
            "text/html": [
              "<div>\n",
              "<style scoped>\n",
              "    .dataframe tbody tr th:only-of-type {\n",
              "        vertical-align: middle;\n",
              "    }\n",
              "\n",
              "    .dataframe tbody tr th {\n",
              "        vertical-align: top;\n",
              "    }\n",
              "\n",
              "    .dataframe thead th {\n",
              "        text-align: right;\n",
              "    }\n",
              "</style>\n",
              "<table border=\"1\" class=\"dataframe\">\n",
              "  <thead>\n",
              "    <tr style=\"text-align: right;\">\n",
              "      <th></th>\n",
              "      <th>count</th>\n",
              "    </tr>\n",
              "    <tr>\n",
              "      <th>previous</th>\n",
              "      <th></th>\n",
              "    </tr>\n",
              "  </thead>\n",
              "  <tbody>\n",
              "    <tr>\n",
              "      <th>0</th>\n",
              "      <td>28431</td>\n",
              "    </tr>\n",
              "    <tr>\n",
              "      <th>1</th>\n",
              "      <td>3660</td>\n",
              "    </tr>\n",
              "    <tr>\n",
              "      <th>2</th>\n",
              "      <td>592</td>\n",
              "    </tr>\n",
              "    <tr>\n",
              "      <th>3</th>\n",
              "      <td>175</td>\n",
              "    </tr>\n",
              "    <tr>\n",
              "      <th>4</th>\n",
              "      <td>61</td>\n",
              "    </tr>\n",
              "    <tr>\n",
              "      <th>5</th>\n",
              "      <td>15</td>\n",
              "    </tr>\n",
              "    <tr>\n",
              "      <th>6</th>\n",
              "      <td>5</td>\n",
              "    </tr>\n",
              "    <tr>\n",
              "      <th>7</th>\n",
              "      <td>1</td>\n",
              "    </tr>\n",
              "  </tbody>\n",
              "</table>\n",
              "</div><br><label><b>dtype:</b> int64</label>"
            ]
          },
          "metadata": {},
          "execution_count": 99
        }
      ]
    },
    {
      "cell_type": "code",
      "source": [
        "train_inputs['previous_contact'] = (train_inputs['previous'] > 0).astype(int)\n",
        "train_inputs['previous_contact'].value_counts()"
      ],
      "metadata": {
        "colab": {
          "base_uri": "https://localhost:8080/",
          "height": 178
        },
        "id": "_ASXqmCzhZVt",
        "outputId": "c489b008-6c80-4775-bfe8-510a1222229e"
      },
      "execution_count": 100,
      "outputs": [
        {
          "output_type": "execute_result",
          "data": {
            "text/plain": [
              "previous_contact\n",
              "0    28431\n",
              "1     4509\n",
              "Name: count, dtype: int64"
            ],
            "text/html": [
              "<div>\n",
              "<style scoped>\n",
              "    .dataframe tbody tr th:only-of-type {\n",
              "        vertical-align: middle;\n",
              "    }\n",
              "\n",
              "    .dataframe tbody tr th {\n",
              "        vertical-align: top;\n",
              "    }\n",
              "\n",
              "    .dataframe thead th {\n",
              "        text-align: right;\n",
              "    }\n",
              "</style>\n",
              "<table border=\"1\" class=\"dataframe\">\n",
              "  <thead>\n",
              "    <tr style=\"text-align: right;\">\n",
              "      <th></th>\n",
              "      <th>count</th>\n",
              "    </tr>\n",
              "    <tr>\n",
              "      <th>previous_contact</th>\n",
              "      <th></th>\n",
              "    </tr>\n",
              "  </thead>\n",
              "  <tbody>\n",
              "    <tr>\n",
              "      <th>0</th>\n",
              "      <td>28431</td>\n",
              "    </tr>\n",
              "    <tr>\n",
              "      <th>1</th>\n",
              "      <td>4509</td>\n",
              "    </tr>\n",
              "  </tbody>\n",
              "</table>\n",
              "</div><br><label><b>dtype:</b> int64</label>"
            ]
          },
          "metadata": {},
          "execution_count": 100
        }
      ]
    },
    {
      "cell_type": "code",
      "source": [
        "#pdays\n",
        "train_inputs['recent_contact'] = (train_inputs['pdays'] < 7).astype(int)"
      ],
      "metadata": {
        "id": "1nM9T9NLhegs"
      },
      "execution_count": 101,
      "outputs": []
    },
    {
      "cell_type": "code",
      "source": [
        "train_inputs['recent_contact'].value_counts()"
      ],
      "metadata": {
        "colab": {
          "base_uri": "https://localhost:8080/",
          "height": 178
        },
        "id": "FUBLTF62hkfw",
        "outputId": "a22efb2f-8bba-4b69-d1aa-219a23a5849d"
      },
      "execution_count": 102,
      "outputs": [
        {
          "output_type": "execute_result",
          "data": {
            "text/plain": [
              "recent_contact\n",
              "0    32059\n",
              "1      881\n",
              "Name: count, dtype: int64"
            ],
            "text/html": [
              "<div>\n",
              "<style scoped>\n",
              "    .dataframe tbody tr th:only-of-type {\n",
              "        vertical-align: middle;\n",
              "    }\n",
              "\n",
              "    .dataframe tbody tr th {\n",
              "        vertical-align: top;\n",
              "    }\n",
              "\n",
              "    .dataframe thead th {\n",
              "        text-align: right;\n",
              "    }\n",
              "</style>\n",
              "<table border=\"1\" class=\"dataframe\">\n",
              "  <thead>\n",
              "    <tr style=\"text-align: right;\">\n",
              "      <th></th>\n",
              "      <th>count</th>\n",
              "    </tr>\n",
              "    <tr>\n",
              "      <th>recent_contact</th>\n",
              "      <th></th>\n",
              "    </tr>\n",
              "  </thead>\n",
              "  <tbody>\n",
              "    <tr>\n",
              "      <th>0</th>\n",
              "      <td>32059</td>\n",
              "    </tr>\n",
              "    <tr>\n",
              "      <th>1</th>\n",
              "      <td>881</td>\n",
              "    </tr>\n",
              "  </tbody>\n",
              "</table>\n",
              "</div><br><label><b>dtype:</b> int64</label>"
            ]
          },
          "metadata": {},
          "execution_count": 102
        }
      ]
    },
    {
      "cell_type": "code",
      "source": [
        "train_inputs['pdays_3'] = (train_inputs['pdays'] == 3).astype(int)\n",
        "train_inputs['pdays_6'] = (train_inputs['pdays'] == 6).astype(int)"
      ],
      "metadata": {
        "id": "LxMXhiCxhob3"
      },
      "execution_count": 103,
      "outputs": []
    },
    {
      "cell_type": "code",
      "source": [
        "#education\n",
        "train_inputs['education'].unique()"
      ],
      "metadata": {
        "colab": {
          "base_uri": "https://localhost:8080/"
        },
        "id": "Zx_IbdV-hpzn",
        "outputId": "2ebc1a4d-970e-4153-a4e9-2aada57f9a7a"
      },
      "execution_count": 104,
      "outputs": [
        {
          "output_type": "execute_result",
          "data": {
            "text/plain": [
              "array(['professional.course', 'university.degree', 'basic.9y',\n",
              "       'high.school', 'basic.4y', 'unknown', 'basic.6y', 'illiterate'],\n",
              "      dtype=object)"
            ]
          },
          "metadata": {},
          "execution_count": 104
        }
      ]
    },
    {
      "cell_type": "code",
      "source": [
        "train_inputs['is_hight_education'] = (train_inputs['education']\n",
        "                                      .isin(['university.degree', 'professional.course'])\n",
        "                                      .astype(int))\n",
        "\n",
        "train_inputs['is_basic_education'] = (train_inputs['education']\n",
        "                                      .isin(['basic.4y', 'basic.9y', 'basic.6y'])\n",
        "                                      .astype(int))"
      ],
      "metadata": {
        "id": "NkbzcBlyhznf"
      },
      "execution_count": 105,
      "outputs": []
    },
    {
      "cell_type": "code",
      "source": [
        "#social and economic context\n",
        "train_inputs[['emp.var.rate', 'cons.price.idx', 'cons.conf.idx',\n",
        "       'euribor3m', 'nr.employed']].describe()"
      ],
      "metadata": {
        "colab": {
          "base_uri": "https://localhost:8080/",
          "height": 300
        },
        "id": "4mI9o1gIh3m9",
        "outputId": "42ff8fd7-ffe1-4d9d-aed9-3b436247de94"
      },
      "execution_count": 106,
      "outputs": [
        {
          "output_type": "execute_result",
          "data": {
            "text/plain": [
              "       emp.var.rate  cons.price.idx  cons.conf.idx     euribor3m   nr.employed\n",
              "count  32940.000000    32940.000000   32940.000000  32940.000000  32940.000000\n",
              "mean       0.080134       93.575607     -40.509824      3.618053   5166.905950\n",
              "std        1.571503        0.579469       4.629072      1.735931     72.397892\n",
              "min       -3.400000       92.201000     -50.800000      0.634000   4963.600000\n",
              "25%       -1.800000       93.075000     -42.700000      1.344000   5099.100000\n",
              "50%        1.100000       93.749000     -41.800000      4.857000   5191.000000\n",
              "75%        1.400000       93.994000     -36.400000      4.961000   5228.100000\n",
              "max        1.400000       94.767000     -26.900000      5.045000   5228.100000"
            ],
            "text/html": [
              "\n",
              "  <div id=\"df-784207fa-ad5a-40f5-87ea-c6c639bee82e\" class=\"colab-df-container\">\n",
              "    <div>\n",
              "<style scoped>\n",
              "    .dataframe tbody tr th:only-of-type {\n",
              "        vertical-align: middle;\n",
              "    }\n",
              "\n",
              "    .dataframe tbody tr th {\n",
              "        vertical-align: top;\n",
              "    }\n",
              "\n",
              "    .dataframe thead th {\n",
              "        text-align: right;\n",
              "    }\n",
              "</style>\n",
              "<table border=\"1\" class=\"dataframe\">\n",
              "  <thead>\n",
              "    <tr style=\"text-align: right;\">\n",
              "      <th></th>\n",
              "      <th>emp.var.rate</th>\n",
              "      <th>cons.price.idx</th>\n",
              "      <th>cons.conf.idx</th>\n",
              "      <th>euribor3m</th>\n",
              "      <th>nr.employed</th>\n",
              "    </tr>\n",
              "  </thead>\n",
              "  <tbody>\n",
              "    <tr>\n",
              "      <th>count</th>\n",
              "      <td>32940.000000</td>\n",
              "      <td>32940.000000</td>\n",
              "      <td>32940.000000</td>\n",
              "      <td>32940.000000</td>\n",
              "      <td>32940.000000</td>\n",
              "    </tr>\n",
              "    <tr>\n",
              "      <th>mean</th>\n",
              "      <td>0.080134</td>\n",
              "      <td>93.575607</td>\n",
              "      <td>-40.509824</td>\n",
              "      <td>3.618053</td>\n",
              "      <td>5166.905950</td>\n",
              "    </tr>\n",
              "    <tr>\n",
              "      <th>std</th>\n",
              "      <td>1.571503</td>\n",
              "      <td>0.579469</td>\n",
              "      <td>4.629072</td>\n",
              "      <td>1.735931</td>\n",
              "      <td>72.397892</td>\n",
              "    </tr>\n",
              "    <tr>\n",
              "      <th>min</th>\n",
              "      <td>-3.400000</td>\n",
              "      <td>92.201000</td>\n",
              "      <td>-50.800000</td>\n",
              "      <td>0.634000</td>\n",
              "      <td>4963.600000</td>\n",
              "    </tr>\n",
              "    <tr>\n",
              "      <th>25%</th>\n",
              "      <td>-1.800000</td>\n",
              "      <td>93.075000</td>\n",
              "      <td>-42.700000</td>\n",
              "      <td>1.344000</td>\n",
              "      <td>5099.100000</td>\n",
              "    </tr>\n",
              "    <tr>\n",
              "      <th>50%</th>\n",
              "      <td>1.100000</td>\n",
              "      <td>93.749000</td>\n",
              "      <td>-41.800000</td>\n",
              "      <td>4.857000</td>\n",
              "      <td>5191.000000</td>\n",
              "    </tr>\n",
              "    <tr>\n",
              "      <th>75%</th>\n",
              "      <td>1.400000</td>\n",
              "      <td>93.994000</td>\n",
              "      <td>-36.400000</td>\n",
              "      <td>4.961000</td>\n",
              "      <td>5228.100000</td>\n",
              "    </tr>\n",
              "    <tr>\n",
              "      <th>max</th>\n",
              "      <td>1.400000</td>\n",
              "      <td>94.767000</td>\n",
              "      <td>-26.900000</td>\n",
              "      <td>5.045000</td>\n",
              "      <td>5228.100000</td>\n",
              "    </tr>\n",
              "  </tbody>\n",
              "</table>\n",
              "</div>\n",
              "    <div class=\"colab-df-buttons\">\n",
              "\n",
              "  <div class=\"colab-df-container\">\n",
              "    <button class=\"colab-df-convert\" onclick=\"convertToInteractive('df-784207fa-ad5a-40f5-87ea-c6c639bee82e')\"\n",
              "            title=\"Convert this dataframe to an interactive table.\"\n",
              "            style=\"display:none;\">\n",
              "\n",
              "  <svg xmlns=\"http://www.w3.org/2000/svg\" height=\"24px\" viewBox=\"0 -960 960 960\">\n",
              "    <path d=\"M120-120v-720h720v720H120Zm60-500h600v-160H180v160Zm220 220h160v-160H400v160Zm0 220h160v-160H400v160ZM180-400h160v-160H180v160Zm440 0h160v-160H620v160ZM180-180h160v-160H180v160Zm440 0h160v-160H620v160Z\"/>\n",
              "  </svg>\n",
              "    </button>\n",
              "\n",
              "  <style>\n",
              "    .colab-df-container {\n",
              "      display:flex;\n",
              "      gap: 12px;\n",
              "    }\n",
              "\n",
              "    .colab-df-convert {\n",
              "      background-color: #E8F0FE;\n",
              "      border: none;\n",
              "      border-radius: 50%;\n",
              "      cursor: pointer;\n",
              "      display: none;\n",
              "      fill: #1967D2;\n",
              "      height: 32px;\n",
              "      padding: 0 0 0 0;\n",
              "      width: 32px;\n",
              "    }\n",
              "\n",
              "    .colab-df-convert:hover {\n",
              "      background-color: #E2EBFA;\n",
              "      box-shadow: 0px 1px 2px rgba(60, 64, 67, 0.3), 0px 1px 3px 1px rgba(60, 64, 67, 0.15);\n",
              "      fill: #174EA6;\n",
              "    }\n",
              "\n",
              "    .colab-df-buttons div {\n",
              "      margin-bottom: 4px;\n",
              "    }\n",
              "\n",
              "    [theme=dark] .colab-df-convert {\n",
              "      background-color: #3B4455;\n",
              "      fill: #D2E3FC;\n",
              "    }\n",
              "\n",
              "    [theme=dark] .colab-df-convert:hover {\n",
              "      background-color: #434B5C;\n",
              "      box-shadow: 0px 1px 3px 1px rgba(0, 0, 0, 0.15);\n",
              "      filter: drop-shadow(0px 1px 2px rgba(0, 0, 0, 0.3));\n",
              "      fill: #FFFFFF;\n",
              "    }\n",
              "  </style>\n",
              "\n",
              "    <script>\n",
              "      const buttonEl =\n",
              "        document.querySelector('#df-784207fa-ad5a-40f5-87ea-c6c639bee82e button.colab-df-convert');\n",
              "      buttonEl.style.display =\n",
              "        google.colab.kernel.accessAllowed ? 'block' : 'none';\n",
              "\n",
              "      async function convertToInteractive(key) {\n",
              "        const element = document.querySelector('#df-784207fa-ad5a-40f5-87ea-c6c639bee82e');\n",
              "        const dataTable =\n",
              "          await google.colab.kernel.invokeFunction('convertToInteractive',\n",
              "                                                    [key], {});\n",
              "        if (!dataTable) return;\n",
              "\n",
              "        const docLinkHtml = 'Like what you see? Visit the ' +\n",
              "          '<a target=\"_blank\" href=https://colab.research.google.com/notebooks/data_table.ipynb>data table notebook</a>'\n",
              "          + ' to learn more about interactive tables.';\n",
              "        element.innerHTML = '';\n",
              "        dataTable['output_type'] = 'display_data';\n",
              "        await google.colab.output.renderOutput(dataTable, element);\n",
              "        const docLink = document.createElement('div');\n",
              "        docLink.innerHTML = docLinkHtml;\n",
              "        element.appendChild(docLink);\n",
              "      }\n",
              "    </script>\n",
              "  </div>\n",
              "\n",
              "\n",
              "    <div id=\"df-842842ad-fbb0-4911-a256-0bcbaec2aa60\">\n",
              "      <button class=\"colab-df-quickchart\" onclick=\"quickchart('df-842842ad-fbb0-4911-a256-0bcbaec2aa60')\"\n",
              "                title=\"Suggest charts\"\n",
              "                style=\"display:none;\">\n",
              "\n",
              "<svg xmlns=\"http://www.w3.org/2000/svg\" height=\"24px\"viewBox=\"0 0 24 24\"\n",
              "     width=\"24px\">\n",
              "    <g>\n",
              "        <path d=\"M19 3H5c-1.1 0-2 .9-2 2v14c0 1.1.9 2 2 2h14c1.1 0 2-.9 2-2V5c0-1.1-.9-2-2-2zM9 17H7v-7h2v7zm4 0h-2V7h2v10zm4 0h-2v-4h2v4z\"/>\n",
              "    </g>\n",
              "</svg>\n",
              "      </button>\n",
              "\n",
              "<style>\n",
              "  .colab-df-quickchart {\n",
              "      --bg-color: #E8F0FE;\n",
              "      --fill-color: #1967D2;\n",
              "      --hover-bg-color: #E2EBFA;\n",
              "      --hover-fill-color: #174EA6;\n",
              "      --disabled-fill-color: #AAA;\n",
              "      --disabled-bg-color: #DDD;\n",
              "  }\n",
              "\n",
              "  [theme=dark] .colab-df-quickchart {\n",
              "      --bg-color: #3B4455;\n",
              "      --fill-color: #D2E3FC;\n",
              "      --hover-bg-color: #434B5C;\n",
              "      --hover-fill-color: #FFFFFF;\n",
              "      --disabled-bg-color: #3B4455;\n",
              "      --disabled-fill-color: #666;\n",
              "  }\n",
              "\n",
              "  .colab-df-quickchart {\n",
              "    background-color: var(--bg-color);\n",
              "    border: none;\n",
              "    border-radius: 50%;\n",
              "    cursor: pointer;\n",
              "    display: none;\n",
              "    fill: var(--fill-color);\n",
              "    height: 32px;\n",
              "    padding: 0;\n",
              "    width: 32px;\n",
              "  }\n",
              "\n",
              "  .colab-df-quickchart:hover {\n",
              "    background-color: var(--hover-bg-color);\n",
              "    box-shadow: 0 1px 2px rgba(60, 64, 67, 0.3), 0 1px 3px 1px rgba(60, 64, 67, 0.15);\n",
              "    fill: var(--button-hover-fill-color);\n",
              "  }\n",
              "\n",
              "  .colab-df-quickchart-complete:disabled,\n",
              "  .colab-df-quickchart-complete:disabled:hover {\n",
              "    background-color: var(--disabled-bg-color);\n",
              "    fill: var(--disabled-fill-color);\n",
              "    box-shadow: none;\n",
              "  }\n",
              "\n",
              "  .colab-df-spinner {\n",
              "    border: 2px solid var(--fill-color);\n",
              "    border-color: transparent;\n",
              "    border-bottom-color: var(--fill-color);\n",
              "    animation:\n",
              "      spin 1s steps(1) infinite;\n",
              "  }\n",
              "\n",
              "  @keyframes spin {\n",
              "    0% {\n",
              "      border-color: transparent;\n",
              "      border-bottom-color: var(--fill-color);\n",
              "      border-left-color: var(--fill-color);\n",
              "    }\n",
              "    20% {\n",
              "      border-color: transparent;\n",
              "      border-left-color: var(--fill-color);\n",
              "      border-top-color: var(--fill-color);\n",
              "    }\n",
              "    30% {\n",
              "      border-color: transparent;\n",
              "      border-left-color: var(--fill-color);\n",
              "      border-top-color: var(--fill-color);\n",
              "      border-right-color: var(--fill-color);\n",
              "    }\n",
              "    40% {\n",
              "      border-color: transparent;\n",
              "      border-right-color: var(--fill-color);\n",
              "      border-top-color: var(--fill-color);\n",
              "    }\n",
              "    60% {\n",
              "      border-color: transparent;\n",
              "      border-right-color: var(--fill-color);\n",
              "    }\n",
              "    80% {\n",
              "      border-color: transparent;\n",
              "      border-right-color: var(--fill-color);\n",
              "      border-bottom-color: var(--fill-color);\n",
              "    }\n",
              "    90% {\n",
              "      border-color: transparent;\n",
              "      border-bottom-color: var(--fill-color);\n",
              "    }\n",
              "  }\n",
              "</style>\n",
              "\n",
              "      <script>\n",
              "        async function quickchart(key) {\n",
              "          const quickchartButtonEl =\n",
              "            document.querySelector('#' + key + ' button');\n",
              "          quickchartButtonEl.disabled = true;  // To prevent multiple clicks.\n",
              "          quickchartButtonEl.classList.add('colab-df-spinner');\n",
              "          try {\n",
              "            const charts = await google.colab.kernel.invokeFunction(\n",
              "                'suggestCharts', [key], {});\n",
              "          } catch (error) {\n",
              "            console.error('Error during call to suggestCharts:', error);\n",
              "          }\n",
              "          quickchartButtonEl.classList.remove('colab-df-spinner');\n",
              "          quickchartButtonEl.classList.add('colab-df-quickchart-complete');\n",
              "        }\n",
              "        (() => {\n",
              "          let quickchartButtonEl =\n",
              "            document.querySelector('#df-842842ad-fbb0-4911-a256-0bcbaec2aa60 button');\n",
              "          quickchartButtonEl.style.display =\n",
              "            google.colab.kernel.accessAllowed ? 'block' : 'none';\n",
              "        })();\n",
              "      </script>\n",
              "    </div>\n",
              "\n",
              "    </div>\n",
              "  </div>\n"
            ],
            "application/vnd.google.colaboratory.intrinsic+json": {
              "type": "dataframe",
              "summary": "{\n  \"name\": \"       'euribor3m', 'nr\",\n  \"rows\": 8,\n  \"fields\": [\n    {\n      \"column\": \"emp.var.rate\",\n      \"properties\": {\n        \"dtype\": \"number\",\n        \"std\": 11646.031063122584,\n        \"min\": -3.4,\n        \"max\": 32940.0,\n        \"num_unique_values\": 7,\n        \"samples\": [\n          32940.0,\n          0.08013357619914997,\n          1.1\n        ],\n        \"semantic_type\": \"\",\n        \"description\": \"\"\n      }\n    },\n    {\n      \"column\": \"cons.price.idx\",\n      \"properties\": {\n        \"dtype\": \"number\",\n        \"std\": 11617.711959710063,\n        \"min\": 0.5794693912392715,\n        \"max\": 32940.0,\n        \"num_unique_values\": 8,\n        \"samples\": [\n          93.57560749848209,\n          93.749,\n          32940.0\n        ],\n        \"semantic_type\": \"\",\n        \"description\": \"\"\n      }\n    },\n    {\n      \"column\": \"cons.conf.idx\",\n      \"properties\": {\n        \"dtype\": \"number\",\n        \"std\": 11657.904054178473,\n        \"min\": -50.8,\n        \"max\": 32940.0,\n        \"num_unique_values\": 8,\n        \"samples\": [\n          -40.50982392228294,\n          -41.8,\n          32940.0\n        ],\n        \"semantic_type\": \"\",\n        \"description\": \"\"\n      }\n    },\n    {\n      \"column\": \"euribor3m\",\n      \"properties\": {\n        \"dtype\": \"number\",\n        \"std\": 11644.927802643859,\n        \"min\": 0.634,\n        \"max\": 32940.0,\n        \"num_unique_values\": 8,\n        \"samples\": [\n          3.6180527625986647,\n          4.857,\n          32940.0\n        ],\n        \"semantic_type\": \"\",\n        \"description\": \"\"\n      }\n    },\n    {\n      \"column\": \"nr.employed\",\n      \"properties\": {\n        \"dtype\": \"number\",\n        \"std\": 10238.356791898143,\n        \"min\": 72.39789242249542,\n        \"max\": 32940.0,\n        \"num_unique_values\": 7,\n        \"samples\": [\n          32940.0,\n          5166.905950212508,\n          5191.0\n        ],\n        \"semantic_type\": \"\",\n        \"description\": \"\"\n      }\n    }\n  ]\n}"
            }
          },
          "metadata": {},
          "execution_count": 106
        }
      ]
    },
    {
      "cell_type": "code",
      "source": [
        "train_inputs['nr.employed_to_emp.var.rate'] = (train_inputs['nr.employed']\n",
        "                                               / train_inputs['emp.var.rate'])\n",
        "\n",
        "train_inputs['cons.price.idx_to_cons.conf.idx'] = (train_inputs['cons.price.idx']\n",
        "                                                   / train_inputs['cons.conf.idx'])\n",
        "\n",
        "train_inputs['euribor3m_to_emp.var.rate'] = (train_inputs['euribor3m']\n",
        "                                             / train_inputs['emp.var.rate'])\n",
        "\n",
        "train_inputs['cons.price.idx_to_emp.var.rate'] = (train_inputs['cons.price.idx']\n",
        "                                                  / train_inputs['emp.var.rate'])\n",
        "\n",
        "train_inputs['cons.price.idx_to_euribor3m'] = (train_inputs['cons.price.idx']\n",
        "                                               / train_inputs['euribor3m'])\n",
        "\n",
        "train_inputs['cons.conf.idx_to_euribor3m'] = (train_inputs['cons.conf.idx']\n",
        "                                              / train_inputs['euribor3m'])"
      ],
      "metadata": {
        "id": "gMtnj1P-h_wk"
      },
      "execution_count": 107,
      "outputs": []
    },
    {
      "cell_type": "markdown",
      "source": [
        "## Ordinal encoding for education"
      ],
      "metadata": {
        "id": "_8gr7T_FiEGb"
      }
    },
    {
      "cell_type": "code",
      "source": [
        "ordinal_mapping_education = ['unknown', 'illiterate', 'basic.4y', 'basic.6y',\n",
        "                             'basic.9y', 'high.school', 'professional.course',\n",
        "                             'university.degree']\n",
        "\n",
        "ordinal_enc = OrdinalEncoder(categories=[ordinal_mapping_education])"
      ],
      "metadata": {
        "id": "pPArtnl_iG-Y"
      },
      "execution_count": 108,
      "outputs": []
    },
    {
      "cell_type": "code",
      "source": [
        "ordinal_enc_cols = ['education']"
      ],
      "metadata": {
        "id": "lA5P0IW7iMR5"
      },
      "execution_count": 109,
      "outputs": []
    },
    {
      "cell_type": "code",
      "source": [
        "ordinal_enc.fit(train_inputs[ordinal_enc_cols]).set_output(transform='pandas')\n",
        "ordinal_enc.transform(train_inputs[ordinal_enc_cols])[:10]"
      ],
      "metadata": {
        "colab": {
          "base_uri": "https://localhost:8080/",
          "height": 363
        },
        "id": "HXVKpsbaiPjA",
        "outputId": "c1dedcd5-5463-4246-ad54-42c02cc2ed05"
      },
      "execution_count": 110,
      "outputs": [
        {
          "output_type": "execute_result",
          "data": {
            "text/plain": [
              "       education\n",
              "36444        6.0\n",
              "1233         6.0\n",
              "24104        7.0\n",
              "15513        4.0\n",
              "17912        5.0\n",
              "8504         2.0\n",
              "24130        4.0\n",
              "2680         0.0\n",
              "5824         4.0\n",
              "37518        5.0"
            ],
            "text/html": [
              "\n",
              "  <div id=\"df-7c08567c-e2f6-4447-a21b-2e8ce2253fe6\" class=\"colab-df-container\">\n",
              "    <div>\n",
              "<style scoped>\n",
              "    .dataframe tbody tr th:only-of-type {\n",
              "        vertical-align: middle;\n",
              "    }\n",
              "\n",
              "    .dataframe tbody tr th {\n",
              "        vertical-align: top;\n",
              "    }\n",
              "\n",
              "    .dataframe thead th {\n",
              "        text-align: right;\n",
              "    }\n",
              "</style>\n",
              "<table border=\"1\" class=\"dataframe\">\n",
              "  <thead>\n",
              "    <tr style=\"text-align: right;\">\n",
              "      <th></th>\n",
              "      <th>education</th>\n",
              "    </tr>\n",
              "  </thead>\n",
              "  <tbody>\n",
              "    <tr>\n",
              "      <th>36444</th>\n",
              "      <td>6.0</td>\n",
              "    </tr>\n",
              "    <tr>\n",
              "      <th>1233</th>\n",
              "      <td>6.0</td>\n",
              "    </tr>\n",
              "    <tr>\n",
              "      <th>24104</th>\n",
              "      <td>7.0</td>\n",
              "    </tr>\n",
              "    <tr>\n",
              "      <th>15513</th>\n",
              "      <td>4.0</td>\n",
              "    </tr>\n",
              "    <tr>\n",
              "      <th>17912</th>\n",
              "      <td>5.0</td>\n",
              "    </tr>\n",
              "    <tr>\n",
              "      <th>8504</th>\n",
              "      <td>2.0</td>\n",
              "    </tr>\n",
              "    <tr>\n",
              "      <th>24130</th>\n",
              "      <td>4.0</td>\n",
              "    </tr>\n",
              "    <tr>\n",
              "      <th>2680</th>\n",
              "      <td>0.0</td>\n",
              "    </tr>\n",
              "    <tr>\n",
              "      <th>5824</th>\n",
              "      <td>4.0</td>\n",
              "    </tr>\n",
              "    <tr>\n",
              "      <th>37518</th>\n",
              "      <td>5.0</td>\n",
              "    </tr>\n",
              "  </tbody>\n",
              "</table>\n",
              "</div>\n",
              "    <div class=\"colab-df-buttons\">\n",
              "\n",
              "  <div class=\"colab-df-container\">\n",
              "    <button class=\"colab-df-convert\" onclick=\"convertToInteractive('df-7c08567c-e2f6-4447-a21b-2e8ce2253fe6')\"\n",
              "            title=\"Convert this dataframe to an interactive table.\"\n",
              "            style=\"display:none;\">\n",
              "\n",
              "  <svg xmlns=\"http://www.w3.org/2000/svg\" height=\"24px\" viewBox=\"0 -960 960 960\">\n",
              "    <path d=\"M120-120v-720h720v720H120Zm60-500h600v-160H180v160Zm220 220h160v-160H400v160Zm0 220h160v-160H400v160ZM180-400h160v-160H180v160Zm440 0h160v-160H620v160ZM180-180h160v-160H180v160Zm440 0h160v-160H620v160Z\"/>\n",
              "  </svg>\n",
              "    </button>\n",
              "\n",
              "  <style>\n",
              "    .colab-df-container {\n",
              "      display:flex;\n",
              "      gap: 12px;\n",
              "    }\n",
              "\n",
              "    .colab-df-convert {\n",
              "      background-color: #E8F0FE;\n",
              "      border: none;\n",
              "      border-radius: 50%;\n",
              "      cursor: pointer;\n",
              "      display: none;\n",
              "      fill: #1967D2;\n",
              "      height: 32px;\n",
              "      padding: 0 0 0 0;\n",
              "      width: 32px;\n",
              "    }\n",
              "\n",
              "    .colab-df-convert:hover {\n",
              "      background-color: #E2EBFA;\n",
              "      box-shadow: 0px 1px 2px rgba(60, 64, 67, 0.3), 0px 1px 3px 1px rgba(60, 64, 67, 0.15);\n",
              "      fill: #174EA6;\n",
              "    }\n",
              "\n",
              "    .colab-df-buttons div {\n",
              "      margin-bottom: 4px;\n",
              "    }\n",
              "\n",
              "    [theme=dark] .colab-df-convert {\n",
              "      background-color: #3B4455;\n",
              "      fill: #D2E3FC;\n",
              "    }\n",
              "\n",
              "    [theme=dark] .colab-df-convert:hover {\n",
              "      background-color: #434B5C;\n",
              "      box-shadow: 0px 1px 3px 1px rgba(0, 0, 0, 0.15);\n",
              "      filter: drop-shadow(0px 1px 2px rgba(0, 0, 0, 0.3));\n",
              "      fill: #FFFFFF;\n",
              "    }\n",
              "  </style>\n",
              "\n",
              "    <script>\n",
              "      const buttonEl =\n",
              "        document.querySelector('#df-7c08567c-e2f6-4447-a21b-2e8ce2253fe6 button.colab-df-convert');\n",
              "      buttonEl.style.display =\n",
              "        google.colab.kernel.accessAllowed ? 'block' : 'none';\n",
              "\n",
              "      async function convertToInteractive(key) {\n",
              "        const element = document.querySelector('#df-7c08567c-e2f6-4447-a21b-2e8ce2253fe6');\n",
              "        const dataTable =\n",
              "          await google.colab.kernel.invokeFunction('convertToInteractive',\n",
              "                                                    [key], {});\n",
              "        if (!dataTable) return;\n",
              "\n",
              "        const docLinkHtml = 'Like what you see? Visit the ' +\n",
              "          '<a target=\"_blank\" href=https://colab.research.google.com/notebooks/data_table.ipynb>data table notebook</a>'\n",
              "          + ' to learn more about interactive tables.';\n",
              "        element.innerHTML = '';\n",
              "        dataTable['output_type'] = 'display_data';\n",
              "        await google.colab.output.renderOutput(dataTable, element);\n",
              "        const docLink = document.createElement('div');\n",
              "        docLink.innerHTML = docLinkHtml;\n",
              "        element.appendChild(docLink);\n",
              "      }\n",
              "    </script>\n",
              "  </div>\n",
              "\n",
              "\n",
              "    <div id=\"df-6540b272-dab1-4d47-a22f-824def15a3f0\">\n",
              "      <button class=\"colab-df-quickchart\" onclick=\"quickchart('df-6540b272-dab1-4d47-a22f-824def15a3f0')\"\n",
              "                title=\"Suggest charts\"\n",
              "                style=\"display:none;\">\n",
              "\n",
              "<svg xmlns=\"http://www.w3.org/2000/svg\" height=\"24px\"viewBox=\"0 0 24 24\"\n",
              "     width=\"24px\">\n",
              "    <g>\n",
              "        <path d=\"M19 3H5c-1.1 0-2 .9-2 2v14c0 1.1.9 2 2 2h14c1.1 0 2-.9 2-2V5c0-1.1-.9-2-2-2zM9 17H7v-7h2v7zm4 0h-2V7h2v10zm4 0h-2v-4h2v4z\"/>\n",
              "    </g>\n",
              "</svg>\n",
              "      </button>\n",
              "\n",
              "<style>\n",
              "  .colab-df-quickchart {\n",
              "      --bg-color: #E8F0FE;\n",
              "      --fill-color: #1967D2;\n",
              "      --hover-bg-color: #E2EBFA;\n",
              "      --hover-fill-color: #174EA6;\n",
              "      --disabled-fill-color: #AAA;\n",
              "      --disabled-bg-color: #DDD;\n",
              "  }\n",
              "\n",
              "  [theme=dark] .colab-df-quickchart {\n",
              "      --bg-color: #3B4455;\n",
              "      --fill-color: #D2E3FC;\n",
              "      --hover-bg-color: #434B5C;\n",
              "      --hover-fill-color: #FFFFFF;\n",
              "      --disabled-bg-color: #3B4455;\n",
              "      --disabled-fill-color: #666;\n",
              "  }\n",
              "\n",
              "  .colab-df-quickchart {\n",
              "    background-color: var(--bg-color);\n",
              "    border: none;\n",
              "    border-radius: 50%;\n",
              "    cursor: pointer;\n",
              "    display: none;\n",
              "    fill: var(--fill-color);\n",
              "    height: 32px;\n",
              "    padding: 0;\n",
              "    width: 32px;\n",
              "  }\n",
              "\n",
              "  .colab-df-quickchart:hover {\n",
              "    background-color: var(--hover-bg-color);\n",
              "    box-shadow: 0 1px 2px rgba(60, 64, 67, 0.3), 0 1px 3px 1px rgba(60, 64, 67, 0.15);\n",
              "    fill: var(--button-hover-fill-color);\n",
              "  }\n",
              "\n",
              "  .colab-df-quickchart-complete:disabled,\n",
              "  .colab-df-quickchart-complete:disabled:hover {\n",
              "    background-color: var(--disabled-bg-color);\n",
              "    fill: var(--disabled-fill-color);\n",
              "    box-shadow: none;\n",
              "  }\n",
              "\n",
              "  .colab-df-spinner {\n",
              "    border: 2px solid var(--fill-color);\n",
              "    border-color: transparent;\n",
              "    border-bottom-color: var(--fill-color);\n",
              "    animation:\n",
              "      spin 1s steps(1) infinite;\n",
              "  }\n",
              "\n",
              "  @keyframes spin {\n",
              "    0% {\n",
              "      border-color: transparent;\n",
              "      border-bottom-color: var(--fill-color);\n",
              "      border-left-color: var(--fill-color);\n",
              "    }\n",
              "    20% {\n",
              "      border-color: transparent;\n",
              "      border-left-color: var(--fill-color);\n",
              "      border-top-color: var(--fill-color);\n",
              "    }\n",
              "    30% {\n",
              "      border-color: transparent;\n",
              "      border-left-color: var(--fill-color);\n",
              "      border-top-color: var(--fill-color);\n",
              "      border-right-color: var(--fill-color);\n",
              "    }\n",
              "    40% {\n",
              "      border-color: transparent;\n",
              "      border-right-color: var(--fill-color);\n",
              "      border-top-color: var(--fill-color);\n",
              "    }\n",
              "    60% {\n",
              "      border-color: transparent;\n",
              "      border-right-color: var(--fill-color);\n",
              "    }\n",
              "    80% {\n",
              "      border-color: transparent;\n",
              "      border-right-color: var(--fill-color);\n",
              "      border-bottom-color: var(--fill-color);\n",
              "    }\n",
              "    90% {\n",
              "      border-color: transparent;\n",
              "      border-bottom-color: var(--fill-color);\n",
              "    }\n",
              "  }\n",
              "</style>\n",
              "\n",
              "      <script>\n",
              "        async function quickchart(key) {\n",
              "          const quickchartButtonEl =\n",
              "            document.querySelector('#' + key + ' button');\n",
              "          quickchartButtonEl.disabled = true;  // To prevent multiple clicks.\n",
              "          quickchartButtonEl.classList.add('colab-df-spinner');\n",
              "          try {\n",
              "            const charts = await google.colab.kernel.invokeFunction(\n",
              "                'suggestCharts', [key], {});\n",
              "          } catch (error) {\n",
              "            console.error('Error during call to suggestCharts:', error);\n",
              "          }\n",
              "          quickchartButtonEl.classList.remove('colab-df-spinner');\n",
              "          quickchartButtonEl.classList.add('colab-df-quickchart-complete');\n",
              "        }\n",
              "        (() => {\n",
              "          let quickchartButtonEl =\n",
              "            document.querySelector('#df-6540b272-dab1-4d47-a22f-824def15a3f0 button');\n",
              "          quickchartButtonEl.style.display =\n",
              "            google.colab.kernel.accessAllowed ? 'block' : 'none';\n",
              "        })();\n",
              "      </script>\n",
              "    </div>\n",
              "\n",
              "    </div>\n",
              "  </div>\n"
            ],
            "application/vnd.google.colaboratory.intrinsic+json": {
              "type": "dataframe",
              "summary": "{\n  \"name\": \"ordinal_enc\",\n  \"rows\": 10,\n  \"fields\": [\n    {\n      \"column\": \"education\",\n      \"properties\": {\n        \"dtype\": \"number\",\n        \"std\": 2.057506581601462,\n        \"min\": 0.0,\n        \"max\": 7.0,\n        \"num_unique_values\": 6,\n        \"samples\": [\n          6.0,\n          7.0,\n          0.0\n        ],\n        \"semantic_type\": \"\",\n        \"description\": \"\"\n      }\n    }\n  ]\n}"
            }
          },
          "metadata": {},
          "execution_count": 110
        }
      ]
    },
    {
      "cell_type": "markdown",
      "source": [
        "## One Hot Encoding"
      ],
      "metadata": {
        "id": "JGy-BstIiTmZ"
      }
    },
    {
      "cell_type": "code",
      "source": [
        "one_hot_enc_cols = ['job', 'marital', 'default', 'housing', 'loan',\n",
        "                    'contact', 'month', 'day_of_week', 'poutcome', 'previous']"
      ],
      "metadata": {
        "id": "fjq4QcUpiS7b"
      },
      "execution_count": 111,
      "outputs": []
    },
    {
      "cell_type": "markdown",
      "source": [
        "## Function for feature engineering"
      ],
      "metadata": {
        "id": "_BPQpEN1iaMy"
      }
    },
    {
      "cell_type": "code",
      "source": [
        "def feat_eng(inputs):\n",
        "    df = inputs.copy()\n",
        "    df['age_cat'] = (df['age'] // 10)\n",
        "    df['is_only_one_contact'] = (df['campaign'] == 1).astype(int)\n",
        "    df['more_than_six_contacts'] = (df['campaign'] > 6).astype(int)\n",
        "    df['previous_contact'] = (df['previous'] > 0).astype(int)\n",
        "    df['recent_contact'] = (df['pdays'] < 7).astype(int)\n",
        "    df['pdays_3'] = (df['pdays'] == 3).astype(int)\n",
        "    df['pdays_6'] = (df['pdays'] == 6).astype(int)\n",
        "    df['is_hight_education'] = (\n",
        "        df['education'].isin(['university.degree', 'professional.course']).astype(int)\n",
        "    )\n",
        "    df['is_basic_education'] = (\n",
        "        df['education'].isin(['basic.4y', 'basic.9y', 'basic.6y']).astype(int)\n",
        "    )\n",
        "    df['nr.employed_to_emp.var.rate'] = (df['nr.employed'] / df['emp.var.rate'])\n",
        "    df['cons.price.idx_to_cons.conf.idx'] = (df['cons.price.idx'] / df['cons.conf.idx'])\n",
        "    df['euribor3m_to_emp.var.rate'] = (df['euribor3m'] / df['emp.var.rate'])\n",
        "    df['cons.price.idx_to_emp.var.rate'] = (df['cons.price.idx'] / df['emp.var.rate'])\n",
        "    df['cons.price.idx_to_euribor3m'] = (df['cons.price.idx'] / df['euribor3m'])\n",
        "    df['cons.conf.idx_to_euribor3m'] = (df['cons.conf.idx'] / df['euribor3m'])\n",
        "    return df"
      ],
      "metadata": {
        "id": "2d8YcNkDic-6"
      },
      "execution_count": 135,
      "outputs": []
    },
    {
      "cell_type": "code",
      "source": [
        "train_inputs_eng = feat_eng(train_inputs)\n",
        "test_inputs_eng = feat_eng(test_inputs)"
      ],
      "metadata": {
        "id": "_rZLaL7di5i9"
      },
      "execution_count": 136,
      "outputs": []
    },
    {
      "cell_type": "code",
      "source": [
        "numeric_cols = train_inputs.select_dtypes('number').columns.to_list()"
      ],
      "metadata": {
        "id": "NykTj9uijZSc"
      },
      "execution_count": 128,
      "outputs": []
    },
    {
      "cell_type": "code",
      "source": [
        "print(numeric_cols)"
      ],
      "metadata": {
        "colab": {
          "base_uri": "https://localhost:8080/"
        },
        "id": "B-yPAiV3n9OX",
        "outputId": "76cd08ef-898a-45a8-ff12-6aab8a98edb6"
      },
      "execution_count": 137,
      "outputs": [
        {
          "output_type": "stream",
          "name": "stdout",
          "text": [
            "['age', 'campaign', 'pdays', 'previous', 'emp.var.rate', 'cons.price.idx', 'cons.conf.idx', 'euribor3m', 'nr.employed', 'cons.price.idx_diff', 'age_cat', 'is_only_one_contact', 'more_than_six_contacts', 'previous_contact', 'recent_contact', 'pdays_3', 'pdays_6', 'is_hight_education', 'is_basic_education', 'nr.employed_to_emp.var.rate', 'cons.price.idx_to_cons.conf.idx', 'euribor3m_to_emp.var.rate', 'cons.price.idx_to_emp.var.rate', 'cons.price.idx_to_euribor3m', 'cons.conf.idx_to_euribor3m']\n"
          ]
        }
      ]
    },
    {
      "cell_type": "code",
      "source": [
        "categorical_cols = train_inputs.select_dtypes('object').columns.to_list()\n",
        "print(categorical_cols)"
      ],
      "metadata": {
        "colab": {
          "base_uri": "https://localhost:8080/"
        },
        "id": "DZ88fMnToCDO",
        "outputId": "56b3da92-1a78-4c96-90b1-3e373a15e84f"
      },
      "execution_count": 138,
      "outputs": [
        {
          "output_type": "stream",
          "name": "stdout",
          "text": [
            "['job', 'marital', 'education', 'default', 'housing', 'loan', 'contact', 'month', 'day_of_week', 'poutcome', 'default_grouped']\n"
          ]
        }
      ]
    },
    {
      "cell_type": "code",
      "source": [
        "preprocessor_num = ColumnTransformer(\n",
        "    transformers=[\n",
        "        ('num', numerical_transformer, numeric_cols),\n",
        "        ('onehot_enc', categorical_transformer, categorical_cols),\n",
        "    ],\n",
        "    remainder='drop',\n",
        "    verbose_feature_names_out=False\n",
        ").set_output(transform='pandas')\n",
        "\n",
        "preprocessor_cat = ColumnTransformer(\n",
        "    transformers=[\n",
        "        ('onehot_enc', categorical_transformer, one_hot_enc_cols),\n",
        "        ('ord_enc', ordinal_enc, ordinal_enc_cols),\n",
        "        # Якщо треба ще числові:\n",
        "        ('num', numerical_transformer, numeric_cols)\n",
        "    ],\n",
        "    remainder='drop',\n",
        "    verbose_feature_names_out=False\n",
        ").set_output(transform='pandas')\n"
      ],
      "metadata": {
        "id": "GN4w-L8JkhxB"
      },
      "execution_count": 139,
      "outputs": []
    },
    {
      "cell_type": "code",
      "source": [
        "# calculate scale_pos_weight\n",
        "scale_pos_weight = np.round(((len(train_targets) - sum(train_targets)) / sum(train_targets)), 3)\n",
        "scale_pos_weight"
      ],
      "metadata": {
        "colab": {
          "base_uri": "https://localhost:8080/"
        },
        "id": "4QCWUGl1kzXB",
        "outputId": "08f8bb53-9779-4e9b-a790-a91294012239"
      },
      "execution_count": 141,
      "outputs": [
        {
          "output_type": "execute_result",
          "data": {
            "text/plain": [
              "np.float64(7.876)"
            ]
          },
          "metadata": {},
          "execution_count": 141
        }
      ]
    },
    {
      "cell_type": "code",
      "source": [
        "log_reg = LogisticRegression(random_state=42, solver='liblinear', class_weight='balanced')\n",
        "knn = KNeighborsClassifier(n_neighbors=15)\n",
        "dt = DecisionTreeClassifier(max_depth=5, random_state=42, class_weight='balanced')\n",
        "rf = RandomForestClassifier(max_depth=5, random_state=42, class_weight='balanced')\n",
        "\n",
        "xgb = XGBClassifier(n_estimators=50,\n",
        "                    max_depth=5,\n",
        "                    learning_rate=0.1,\n",
        "                    scale_pos_weight=scale_pos_weight,\n",
        "                    random_state=42)\n",
        "\n",
        "lgb = LGBMClassifier(n_estimators=50,\n",
        "                     max_depth=7,\n",
        "                     learning_rate=0.03,\n",
        "                     scale_pos_weight=scale_pos_weight,\n",
        "                     random_state=42,\n",
        "                     verbose=0)"
      ],
      "metadata": {
        "id": "OCKMkO-Bmq3Q"
      },
      "execution_count": 142,
      "outputs": []
    },
    {
      "cell_type": "code",
      "source": [
        "models = {\n",
        "    'LogisticRegression': log_reg,\n",
        "    'KNN': knn,\n",
        "    'DecisionTree': dt,\n",
        "    'RandomForest': rf,\n",
        "    'XGBoost': xgb,\n",
        "    'LightGBM': lgb\n",
        "}"
      ],
      "metadata": {
        "id": "Ko7YOX0Wo8ej"
      },
      "execution_count": 143,
      "outputs": []
    },
    {
      "cell_type": "code",
      "source": [
        "results = []\n",
        "\n",
        "for name, clf in models.items():\n",
        "    if name in ['LogisticRegression', 'KNN']:\n",
        "        preprocessor = preprocessor_num\n",
        "    else:\n",
        "        preprocessor = preprocessor_cat\n",
        "\n",
        "    print(f\"{name}\")\n",
        "    res = get_eval_results(preprocessor, clf, train_inputs_eng, train_targets)\n",
        "    results.append(res)\n"
      ],
      "metadata": {
        "colab": {
          "base_uri": "https://localhost:8080/"
        },
        "id": "oQ2QpAR-pAZl",
        "outputId": "fa87843e-bc64-40e8-bf06-53eb10aaa5cf"
      },
      "execution_count": 144,
      "outputs": [
        {
          "output_type": "stream",
          "name": "stdout",
          "text": [
            "LogisticRegression\n",
            "AUROC score on train set:: 0.798\n",
            "AUROC score on validation set:: 0.792\n",
            "KNN\n",
            "AUROC score on train set:: 0.870\n",
            "AUROC score on validation set:: 0.746\n",
            "DecisionTree\n",
            "AUROC score on train set:: 0.792\n",
            "AUROC score on validation set:: 0.775\n",
            "RandomForest\n",
            "AUROC score on train set:: 0.806\n",
            "AUROC score on validation set:: 0.794\n",
            "XGBoost\n",
            "AUROC score on train set:: 0.841\n",
            "AUROC score on validation set:: 0.799\n",
            "LightGBM\n",
            "AUROC score on train set:: 0.837\n",
            "AUROC score on validation set:: 0.799\n"
          ]
        }
      ]
    },
    {
      "cell_type": "code",
      "source": [
        "results_df = pd.DataFrame(results)\n",
        "print(results_df[['model_name', 'AUROC on train', 'AUROC on validation']])"
      ],
      "metadata": {
        "colab": {
          "base_uri": "https://localhost:8080/"
        },
        "id": "Xsu05ns9pVKx",
        "outputId": "02ac7353-c23a-4f08-8ac9-e3a5d985d41f"
      },
      "execution_count": 145,
      "outputs": [
        {
          "output_type": "stream",
          "name": "stdout",
          "text": [
            "               model_name  AUROC on train  AUROC on validation\n",
            "0      LogisticRegression        0.797861             0.791868\n",
            "1    KNeighborsClassifier        0.870435             0.746034\n",
            "2  DecisionTreeClassifier        0.791827             0.775301\n",
            "3  RandomForestClassifier        0.805884             0.794156\n",
            "4           XGBClassifier        0.840987             0.799028\n",
            "5          LGBMClassifier        0.836902             0.798771\n"
          ]
        }
      ]
    },
    {
      "cell_type": "markdown",
      "source": [
        "All evaluated models demonstrate solid AUROC scores on both the training and validation sets, with no signs of overfitting. Logistic Regression and Decision Trees show balanced performance (AUROC ~0.79), while ensemble methods such as Random Forest, XGBoost, and LightGBM slightly outperform the rest, achieving AUROC values around 0.80. KNeighborsClassifier has the largest gap between train and validation, suggesting some overfitting.\n",
        "\n",
        "Overall, ensemble models (Random Forest, XGBoost, LightGBM) deliver the best and most stable results on this dataset, while simple linear and tree-based models perform only slightly worse. These findings suggest the current feature set and preprocessing pipeline are robust, and further performance gains may be achieved through advanced feature engineering or hyperparameter tuning."
      ],
      "metadata": {
        "id": "YiDR2dq1poMx"
      }
    },
    {
      "cell_type": "markdown",
      "source": [
        "## Hyperparameters Tuning"
      ],
      "metadata": {
        "id": "aNABNKBcptn2"
      }
    },
    {
      "cell_type": "markdown",
      "source": [
        "## RandomizedSearchCV for Random Forest"
      ],
      "metadata": {
        "id": "69EHNT2UtdQt"
      }
    },
    {
      "cell_type": "code",
      "source": [
        "%%time\n",
        "clf_rf = RandomForestClassifier(random_state=42, class_weight='balanced')\n",
        "\n",
        "model_pipeline = Pipeline(steps=[\n",
        "    ('preprocessor', preprocessor_cat),\n",
        "    ('clf', clf_rf)\n",
        "])\n",
        "\n",
        "rf_param_grid = {\n",
        "    'clf__criterion': ['gini', 'entropy'],\n",
        "    'clf__max_depth': range(2, 21),\n",
        "    'clf__max_leaf_nodes': range(10, 250),\n",
        "    'clf__min_samples_split': range(2, 11),\n",
        "    'clf__min_samples_leaf': range(1, 11),\n",
        "    'clf__max_features': [None, 'sqrt', 'log2'],\n",
        "}\n",
        "\n",
        "randomized_rf = RandomizedSearchCV(model_pipeline, rf_param_grid,\n",
        "                                    n_iter=50, scoring='roc_auc', cv=3, verbose=1)\n",
        "\n",
        "randomized_rf.fit(train_inputs, train_targets)\n",
        "\n",
        "rf_random_search_best = randomized_rf.best_estimator_\n",
        "print(randomized_rf.best_params_)\n",
        "get_auc(rf_random_search_best, train_inputs, train_targets)"
      ],
      "metadata": {
        "colab": {
          "base_uri": "https://localhost:8080/"
        },
        "id": "3WU0pPs2po68",
        "outputId": "e179d1d2-248c-4067-f789-682622cf3e65"
      },
      "execution_count": 146,
      "outputs": [
        {
          "output_type": "stream",
          "name": "stdout",
          "text": [
            "Fitting 3 folds for each of 50 candidates, totalling 150 fits\n",
            "{'clf__min_samples_split': 2, 'clf__min_samples_leaf': 2, 'clf__max_leaf_nodes': 74, 'clf__max_features': 'sqrt', 'clf__max_depth': 14, 'clf__criterion': 'gini'}\n",
            "AUROC score on train set:: 0.841\n",
            "AUROC score on validation set:: 0.802\n",
            "CPU times: user 15min 38s, sys: 8.3 s, total: 15min 47s\n",
            "Wall time: 14min 12s\n"
          ]
        },
        {
          "output_type": "execute_result",
          "data": {
            "text/plain": [
              "(np.float64(0.8414634059489484), np.float64(0.801630342264536))"
            ]
          },
          "metadata": {},
          "execution_count": 146
        }
      ]
    },
    {
      "cell_type": "markdown",
      "source": [
        "After hyperparameter tuning using RandomizedSearchCV, the Random Forest classifier achieved an AUROC of 0.841 on the training set and 0.802 on the validation set. This improvement demonstrates that the model benefits significantly from fine-tuning and that it generalizes well to unseen data, as indicated by the minimal gap between train and validation AUROC scores. The optimal set of hyperparameters, including a max depth of 14, 74 maximum leaf nodes, and the use of 'sqrt' for max features, contributed to this robust performance. Overall, the tuned Random Forest model provides reliable and strong predictive power for this classification problem."
      ],
      "metadata": {
        "id": "fOLOmo00tptW"
      }
    },
    {
      "cell_type": "markdown",
      "source": [
        "## RandomizedSearchCV for XGBoostClassifier"
      ],
      "metadata": {
        "id": "jTk__q_ct279"
      }
    },
    {
      "cell_type": "code",
      "source": [
        "%%time\n",
        "clf = XGBClassifier(random_state=42)\n",
        "\n",
        "model_pipeline = Pipeline(steps=[\n",
        "    ('preprocessor', preprocessor_cat),\n",
        "    ('clf', clf)\n",
        "])\n",
        "\n",
        "xgb_param_grid = {\n",
        "    'clf__n_estimators':     np.arange(50, 500, 25),\n",
        "    'clf__max_depth':        np.arange(2, 20, 1),\n",
        "    'clf__learning_rate':    np.arange(0.01, 1, 0.05),\n",
        "    'clf__scale_pos_weight': np.arange(7, 8, 0.01),\n",
        "    'clf__min_child_weight': np.arange(1, 50, 1),\n",
        "    'clf__gamma':            np.arange(0, 10, 1),\n",
        "}\n",
        "\n",
        "randomized_xgb = RandomizedSearchCV(model_pipeline, xgb_param_grid,\n",
        "                                    n_iter=50, scoring='roc_auc', cv=3, verbose=1)\n",
        "\n",
        "randomized_xgb.fit(train_inputs, train_targets)\n",
        "\n",
        "xgb_random_search_best = randomized_xgb.best_estimator_\n",
        "print(randomized_xgb.best_params_)\n",
        "get_auc(xgb_random_search_best, train_inputs, train_targets)"
      ],
      "metadata": {
        "colab": {
          "base_uri": "https://localhost:8080/"
        },
        "id": "Pcg-kGwqqDKP",
        "outputId": "45914d86-fa4c-44ae-86e3-96e0c259963e"
      },
      "execution_count": 147,
      "outputs": [
        {
          "output_type": "stream",
          "name": "stdout",
          "text": [
            "Fitting 3 folds for each of 50 candidates, totalling 150 fits\n",
            "{'clf__scale_pos_weight': np.float64(7.849999999999982), 'clf__n_estimators': np.int64(250), 'clf__min_child_weight': np.int64(12), 'clf__max_depth': np.int64(4), 'clf__learning_rate': np.float64(0.16000000000000003), 'clf__gamma': np.int64(5)}\n",
            "AUROC score on train set:: 0.833\n",
            "AUROC score on validation set:: 0.801\n",
            "CPU times: user 7min 56s, sys: 4.03 s, total: 8min\n",
            "Wall time: 4min 51s\n"
          ]
        },
        {
          "output_type": "execute_result",
          "data": {
            "text/plain": [
              "(np.float64(0.8325886976790998), np.float64(0.8010015993628546))"
            ]
          },
          "metadata": {},
          "execution_count": 147
        }
      ]
    },
    {
      "cell_type": "markdown",
      "source": [
        "After hyperparameter tuning with RandomizedSearchCV, the XGBoost classifier achieved an AUROC of 0.833 on the training set and 0.801 on the validation set. The optimal hyperparameters—such as 250 estimators, max depth of 4, learning rate of 0.16, scale_pos_weight of 7.85, min_child_weight of 12, and gamma of 5—led to a strong and balanced performance. The minimal gap between train and validation AUROC indicates that the model generalizes well and is not overfitting. Overall, the tuned XGBoost model demonstrates robust predictive power for the given classification task."
      ],
      "metadata": {
        "id": "I_uiiu_7wz0G"
      }
    },
    {
      "cell_type": "markdown",
      "source": [
        "## Hyperopt for LGBMClassifier"
      ],
      "metadata": {
        "id": "Guqs1AApw4NF"
      }
    },
    {
      "cell_type": "code",
      "source": [
        "def objective(space):\n",
        "    clf = LGBMClassifier(**space)\n",
        "    model_pipeline = Pipeline(steps=[\n",
        "        ('preprocessor', preprocessor_cat),\n",
        "        ('classifier', clf)\n",
        "    ])\n",
        "\n",
        "    auroc = cross_val_score(model_pipeline,\n",
        "                            train_inputs,\n",
        "                            train_targets,\n",
        "                            cv=3,\n",
        "                            scoring='roc_auc').mean()\n",
        "    return {'loss': -auroc, 'status': STATUS_OK}\n",
        "\n",
        "space = {\n",
        "    'max_depth':        hp.choice('max_depth', np.arange(3, 15, 1, dtype=int)),\n",
        "    'num_leaves':       hp.choice('num_leaves', np.arange(20, 150, 10, dtype=int)),\n",
        "    'learning_rate':    hp.loguniform('learning_rate', np.log(1e-3), np.log(10)),\n",
        "    'n_estimators':     hp.choice('n_estimators', np.arange(50, 500, 50, dtype='int')),\n",
        "    'subsample':        hp.uniform('subsample', 0.5, 1.),\n",
        "    'colsample_bytree': hp.uniform('colsample_bytree', 0.5, 1.),\n",
        "    'min_split_gain':   hp.uniform('min_split_gain', 0, 0.3),\n",
        "    'min_child_weight': hp.choice('min_child_weight', np.arange(1, 10, 1, dtype=int)),\n",
        "    'reg_alpha':        hp.uniform('reg_alpha', 0, 1),\n",
        "    'reg_lambda':       hp.uniform('reg_lambda', 0, 1),\n",
        "    'scale_pos_weight': scale_pos_weight,\n",
        "    'objective':        'binary',\n",
        "    'random_state':     42,\n",
        "    'metric':           'auc',\n",
        "    'subsample_freq':   1,\n",
        "    'verbose':          -1,\n",
        "    'n_jobs':           -1\n",
        "}\n",
        "\n",
        "trials = Trials()\n",
        "best = fmin(fn=objective,\n",
        "            space=space,\n",
        "            algo=tpe.suggest,\n",
        "            max_evals=30,\n",
        "            trials=trials,\n",
        "            rstate=np.random.default_rng(1491))\n",
        "\n",
        "best_params = space_eval(space, best)\n",
        "\n",
        "print(\"The best hyperparameters:\", best_params)\n",
        "\n",
        "model_pipeline_lgb = Pipeline(steps=[\n",
        "        ('preprocessor', preprocessor_cat),\n",
        "        ('classifier', LGBMClassifier(**best_params))\n",
        "    ])\n",
        "\n",
        "get_auc(model_pipeline_lgb, train_inputs, train_targets)"
      ],
      "metadata": {
        "colab": {
          "base_uri": "https://localhost:8080/"
        },
        "id": "WKpPDuK4w0bJ",
        "outputId": "0320da47-6174-4eeb-80d5-e464f538c379"
      },
      "execution_count": 148,
      "outputs": [
        {
          "output_type": "stream",
          "name": "stdout",
          "text": [
            "100%|██████████| 30/30 [03:28<00:00,  6.95s/trial, best loss: -0.7998070625254986]\n",
            "The best hyperparameters: {'colsample_bytree': 0.8693900771825145, 'learning_rate': 0.003750887287779235, 'max_depth': np.int64(8), 'metric': 'auc', 'min_child_weight': np.int64(7), 'min_split_gain': 0.29033303457658993, 'n_estimators': np.int64(400), 'n_jobs': -1, 'num_leaves': np.int64(100), 'objective': 'binary', 'random_state': 42, 'reg_alpha': 0.9905128391200843, 'reg_lambda': 0.1444797624016541, 'scale_pos_weight': np.float64(7.876), 'subsample': 0.6868420344256323, 'subsample_freq': 1, 'verbose': -1}\n",
            "AUROC score on train set:: 0.863\n",
            "AUROC score on validation set:: 0.800\n"
          ]
        },
        {
          "output_type": "execute_result",
          "data": {
            "text/plain": [
              "(np.float64(0.8627906006794451), np.float64(0.7998070625254986))"
            ]
          },
          "metadata": {},
          "execution_count": 148
        }
      ]
    },
    {
      "cell_type": "markdown",
      "source": [
        "Hyperparameter optimization of the LightGBM model using Bayesian search with Hyperopt resulted in an AUROC of 0.863 on the training set and 0.800 on the validation set. The best model uses a learning rate of 0.0038, max depth of 8, 400 estimators, and highly tuned regularization parameters. The minimal gap between training and validation performance confirms good generalization and no overfitting. The optimized LightGBM model thus demonstrates strong predictive power for this classification task and stands as a robust solution for deployment or further analysis."
      ],
      "metadata": {
        "id": "iczwAkDxzDPT"
      }
    },
    {
      "cell_type": "markdown",
      "source": [
        "Although RandomForest achieved the highest AUROC (0.802), the difference compared to LightGBM (0.800) and XGBoost (0.801) is negligible. Given LightGBM’s speed, scalability, and broad industry adoption, it was selected as the production model."
      ],
      "metadata": {
        "id": "ESmywXfi1qc1"
      }
    },
    {
      "cell_type": "code",
      "source": [
        "#Save the best model\n",
        "bank_deposit_prediction = {\n",
        "    'clf': LGBMClassifier(**best_params),\n",
        "    'preprocessor_cat': preprocessor_cat,\n",
        "    'model_pipeline_lgb': model_pipeline_lgb\n",
        "}\n",
        "\n",
        "joblib.dump(bank_deposit_prediction, '/content/model_lgb.joblib')"
      ],
      "metadata": {
        "colab": {
          "base_uri": "https://localhost:8080/"
        },
        "id": "jdPBRlXBzECY",
        "outputId": "4d721d2a-fe73-4b51-82d6-67dadeee9b3b"
      },
      "execution_count": 153,
      "outputs": [
        {
          "output_type": "execute_result",
          "data": {
            "text/plain": [
              "['/content/model_lgb.joblib']"
            ]
          },
          "metadata": {},
          "execution_count": 153
        }
      ]
    },
    {
      "cell_type": "code",
      "source": [
        "model_pipeline_lgb.fit(train_inputs, train_targets)\n",
        "\n",
        "plot_importance(model_pipeline_lgb[-1], height=0.3, max_num_features=20)\n",
        "plt.show()"
      ],
      "metadata": {
        "colab": {
          "base_uri": "https://localhost:8080/",
          "height": 472
        },
        "id": "ve5AEUMV2jgZ",
        "outputId": "19ff65cf-b806-40f4-9466-fed7cc79b553"
      },
      "execution_count": 154,
      "outputs": [
        {
          "output_type": "display_data",
          "data": {
            "text/plain": [
              "<Figure size 640x480 with 1 Axes>"
            ],
            "image/png": "[encoded data removed]"
          },
          "metadata": {}
        }
      ]
    },
    {
      "cell_type": "markdown",
      "source": [
        "Feature Importance Conclusion:\n",
        "\n",
        "The feature importance analysis reveals that 'age' is by far the most influential predictor in the model, followed by 'euribor3m', 'campaign', and 'education'. Several engineered features, such as 'euribor3m_to_emp.var.rate' and 'cons.conf.idx_to_euribor3m', also play significant roles in the model's predictions. Among categorical variables, features like 'contact_cellular', 'default_no', and 'marital_single' contribute meaningfully to model performance, though to a lesser degree.\n",
        "\n",
        "Overall, the model's decision-making is driven primarily by key financial and demographic attributes, with both original and engineered features adding predictive value. This underscores the importance of thoughtful feature engineering and domain knowledge in improving model quality for bank deposit prediction tasks."
      ],
      "metadata": {
        "id": "q79jj72425Ar"
      }
    },
    {
      "cell_type": "code",
      "source": [
        "test_inputs_eng = feat_eng(test_inputs)\n",
        "\n",
        "y_pred_proba = model_pipeline_lgb.predict_proba(test_inputs_eng)[:, 1]\n",
        "y_pred = model_pipeline_lgb.predict(test_inputs_eng)\n"
      ],
      "metadata": {
        "id": "ienzFhH12k7v"
      },
      "execution_count": 156,
      "outputs": []
    },
    {
      "cell_type": "code",
      "source": [
        "test_inputs_eng = feat_eng(test_inputs)\n",
        "\n",
        "test_inputs_transform = model_pipeline_lgb[0].transform(test_inputs_eng)\n",
        "explainer = shap.Explainer(model_pipeline_lgb[-1])\n",
        "shap_values = explainer(test_inputs_transform)\n"
      ],
      "metadata": {
        "id": "FFJ0nxwP3ujk"
      },
      "execution_count": 157,
      "outputs": []
    },
    {
      "cell_type": "code",
      "source": [
        "shap.summary_plot(shap_values, features=test_inputs_transform, feature_names=model_pipeline_lgb[0].get_feature_names_out())"
      ],
      "metadata": {
        "colab": {
          "base_uri": "https://localhost:8080/",
          "height": 957
        },
        "id": "jdUs5G_j5XHB",
        "outputId": "000f2d45-b458-4a2f-9929-1d81c14ab953"
      },
      "execution_count": 158,
      "outputs": [
        {
          "output_type": "display_data",
          "data": {
            "text/plain": [
              "<Figure size 800x950 with 2 Axes>"
            ],
            "image/png": "[encoded data removed]"
          },
          "metadata": {}
        }
      ]
    },
    {
      "cell_type": "markdown",
      "source": [
        "SHAP Feature Importance Interpretation:\n",
        "\n",
        "The SHAP summary plot illustrates how individual feature values influence model predictions. Features such as nr.employed, euribor3m, and contact_cellular are among the most impactful, indicating that both financial and communication-related factors play significant roles in the prediction of bank deposit outcomes. The plot also highlights several engineered features—like euribor3m_to_emp.var.rate and cons.price.idx_to_euribor3m—which contribute notably to the model's decision process.\n",
        "\n",
        "The color gradient shows the feature value (red = high, blue = low) and how these values shift the model output. For example, high values of euribor3m and nr.employed tend to increase the likelihood of a positive prediction, while lower values may push predictions in the opposite direction. Overall, the SHAP analysis provides a transparent, interpretable view into which features drive the model’s predictions and how."
      ],
      "metadata": {
        "id": "OuTGderb5x51"
      }
    },
    {
      "cell_type": "code",
      "source": [
        "test_inputs_eng = feat_eng(test_inputs)\n",
        "test_pred_proba = model_pipeline_lgb.predict_proba(test_inputs_eng)[:, 1]\n",
        "test_score = roc_auc_score(test_targets, test_pred_proba)\n",
        "print(f\"AUROC score on test set:: {test_score:.3f}\")\n",
        "test_pred_class = model_pipeline_lgb.predict(test_inputs_eng)\n",
        "cm = confusion_matrix(test_targets, test_pred_class)\n",
        "plt.figure(figsize=(4, 3))\n",
        "sns.heatmap(cm, annot=True, cmap='YlOrBr',\n",
        "            xticklabels=['no', 'yes'], yticklabels=['no', 'yes'], fmt='.0f')\n",
        "plt.xlabel('Prediction')\n",
        "plt.ylabel('Target')\n",
        "plt.title('Confusion Matrix')\n",
        "plt.show()\n"
      ],
      "metadata": {
        "colab": {
          "base_uri": "https://localhost:8080/",
          "height": 351
        },
        "id": "TI-0zXJM5zgj",
        "outputId": "28585aa3-29a8-4c76-e425-3d8af681682a"
      },
      "execution_count": 159,
      "outputs": [
        {
          "output_type": "stream",
          "name": "stdout",
          "text": [
            "AUROC score on test set:: 0.818\n"
          ]
        },
        {
          "output_type": "display_data",
          "data": {
            "text/plain": [
              "<Figure size 400x300 with 2 Axes>"
            ],
            "image/png": "[encoded data removed]"
          },
          "metadata": {}
        }
      ]
    },
    {
      "cell_type": "code",
      "source": [
        "test_inputs_eng = feat_eng(test_inputs)\n",
        "test_pred = model_pipeline_lgb.predict(test_inputs_eng)\n",
        "cm = confusion_matrix(test_targets, test_pred, normalize='true')\n",
        "plt.figure(figsize=(4, 3))\n",
        "sns.heatmap(cm, annot=True, cmap='YlOrBr',\n",
        "            xticklabels=['no', 'yes'], yticklabels=['no', 'yes'], fmt=\".2f\")\n",
        "plt.xlabel('Prediction')\n",
        "plt.ylabel('Target')\n",
        "plt.title('Normalized Confusion Matrix')\n",
        "plt.show()"
      ],
      "metadata": {
        "colab": {
          "base_uri": "https://localhost:8080/",
          "height": 333
        },
        "id": "WE9PSzKu6Pnz",
        "outputId": "3479078f-b53e-498c-8400-aa50550b458b"
      },
      "execution_count": 163,
      "outputs": [
        {
          "output_type": "display_data",
          "data": {
            "text/plain": [
              "<Figure size 400x300 with 2 Axes>"
            ],
            "image/png": "[encoded data removed]"
          },
          "metadata": {}
        }
      ]
    },
    {
      "cell_type": "markdown",
      "source": [
        "Confusion Matrix Analysis:\n",
        "\n",
        "The confusion matrices provide valuable insights into the model's classification performance on the test set.\n",
        "\n",
        "The absolute matrix shows that the model correctly identified 6,651 out of 7,308 negative cases (no), and 569 out of 928 positive cases (yes).\n",
        "\n",
        "The normalized matrix demonstrates that:\n",
        "\n",
        "\n",
        "*   91% of the true no cases were correctly classified,\n",
        "*   with only 9% misclassified as yes.\n",
        "\n",
        "\n",
        "For the positive class, the model correctly predicted 61% of yes cases, while 39% were incorrectly classified as no.\n",
        "\n",
        "This indicates high specificity (excellent at detecting negatives), but moderate sensitivity (misses about 39% of actual positives).\n",
        "Such a result is typical for imbalanced datasets: the model prioritizes minimizing false positives, but could be improved in identifying all true positives."
      ],
      "metadata": {
        "id": "osSL1p5e7I0G"
      }
    },
    {
      "cell_type": "markdown",
      "source": [
        "Business Interpretation:\n",
        "\n",
        "The model is highly reliable at ruling out clients who will not make a deposit (few false alarms).\n",
        "\n",
        "However, there is room to improve recall for the yes class (potential depositors), possibly by adjusting the decision threshold, tuning class weights, or further feature engineering."
      ],
      "metadata": {
        "id": "LcXVA-bU7fPC"
      }
    }
  ]
}